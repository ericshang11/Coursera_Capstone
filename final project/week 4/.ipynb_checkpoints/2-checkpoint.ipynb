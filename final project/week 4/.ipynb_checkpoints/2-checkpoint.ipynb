{
 "cells": [
  {
   "cell_type": "markdown",
   "metadata": {},
   "source": [
    "# Capstone Project - The Battle of Neighborhoods"
   ]
  },
  {
   "cell_type": "markdown",
   "metadata": {},
   "source": [
    "## Introduction/Business Problem"
   ]
  },
  {
   "cell_type": "markdown",
   "metadata": {},
   "source": [
    "Introduction where you discuss the business problem and who would be interested in this project."
   ]
  },
  {
   "cell_type": "markdown",
   "metadata": {},
   "source": [
    "#### \"Help investor to find the most suitable restaurant to invest?\"  \n"
   ]
  },
  {
   "cell_type": "markdown",
   "metadata": {},
   "source": [
    "Vancouver is right closed to the sea therefore it's quite famous for its seafood. My boss, an American investor just moved here and decided to __become a shareholder of one Seafood restaurant__ and make it the best seafood restaurant in Vancouver.\n",
    "\n",
    "He has tried top 3 seafood restaurants elected by OpenTable and rated them. He asked me to investigate the top 4-6 restaurants and sent him a report to help him make decisions. \n",
    "\n",
    "He told me his ideal restaurant should \n",
    "- have some nightlife spot nearby \n",
    "- be closed to some bus stop or metro stations\n",
    "- have some shopping malls around"
   ]
  },
  {
   "cell_type": "markdown",
   "metadata": {},
   "source": [
    "## Data"
   ]
  },
  {
   "cell_type": "markdown",
   "metadata": {},
   "source": [
    "Data where you describe the data that will be used to solve the problem and the source of the data."
   ]
  },
  {
   "cell_type": "markdown",
   "metadata": {},
   "source": [
    "According to the question, I need to find following data to resolve the problem."
   ]
  },
  {
   "cell_type": "markdown",
   "metadata": {},
   "source": [
    "#### 1. Stakeholder's choice "
   ]
  },
  {
   "cell_type": "code",
   "execution_count": 1,
   "metadata": {},
   "outputs": [],
   "source": [
    "import pandas as pd\n",
    "df_choice = pd.read_csv('restaurant.csv',index_col=[0])"
   ]
  },
  {
   "cell_type": "code",
   "execution_count": 2,
   "metadata": {},
   "outputs": [
    {
     "data": {
      "text/html": [
       "<div>\n",
       "<style scoped>\n",
       "    .dataframe tbody tr th:only-of-type {\n",
       "        vertical-align: middle;\n",
       "    }\n",
       "\n",
       "    .dataframe tbody tr th {\n",
       "        vertical-align: top;\n",
       "    }\n",
       "\n",
       "    .dataframe thead th {\n",
       "        text-align: right;\n",
       "    }\n",
       "</style>\n",
       "<table border=\"1\" class=\"dataframe\">\n",
       "  <thead>\n",
       "    <tr style=\"text-align: right;\">\n",
       "      <th></th>\n",
       "      <th>Name</th>\n",
       "      <th>lat</th>\n",
       "      <th>lon</th>\n",
       "      <th>rating</th>\n",
       "    </tr>\n",
       "  </thead>\n",
       "  <tbody>\n",
       "    <tr>\n",
       "      <th>1</th>\n",
       "      <td>Ancora Ambleside</td>\n",
       "      <td>49.327349</td>\n",
       "      <td>-123.154458</td>\n",
       "      <td>5.0</td>\n",
       "    </tr>\n",
       "    <tr>\n",
       "      <th>2</th>\n",
       "      <td>Boulevard Kitchen &amp; Oyster Bar</td>\n",
       "      <td>49.282718</td>\n",
       "      <td>-123.123883</td>\n",
       "      <td>4.0</td>\n",
       "    </tr>\n",
       "    <tr>\n",
       "      <th>3</th>\n",
       "      <td>Oddfish Restaurant</td>\n",
       "      <td>49.270894</td>\n",
       "      <td>-123.147585</td>\n",
       "      <td>4.0</td>\n",
       "    </tr>\n",
       "  </tbody>\n",
       "</table>\n",
       "</div>"
      ],
      "text/plain": [
       "                             Name        lat         lon  rating\n",
       "1                Ancora Ambleside  49.327349 -123.154458     5.0\n",
       "2  Boulevard Kitchen & Oyster Bar  49.282718 -123.123883     4.0\n",
       "3              Oddfish Restaurant  49.270894 -123.147585     4.0"
      ]
     },
     "execution_count": 2,
     "metadata": {},
     "output_type": "execute_result"
    }
   ],
   "source": [
    "df_choice"
   ]
  },
  {
   "cell_type": "markdown",
   "metadata": {},
   "source": [
    "Stakeholder's choice will be used as the profile. I got this data from opentable dinners. The ratings were given by the stakeholder."
   ]
  },
  {
   "cell_type": "markdown",
   "metadata": {},
   "source": [
    "#### 2.  Three potential target  restaurants  "
   ]
  },
  {
   "cell_type": "markdown",
   "metadata": {},
   "source": [
    "These three restaurants are top 4 - 6 seafood restaurants listed by Opentable. We are going to find the most suitable one out of three target."
   ]
  },
  {
   "cell_type": "code",
   "execution_count": 2,
   "metadata": {},
   "outputs": [
    {
     "data": {
      "text/html": [
       "<div>\n",
       "<style scoped>\n",
       "    .dataframe tbody tr th:only-of-type {\n",
       "        vertical-align: middle;\n",
       "    }\n",
       "\n",
       "    .dataframe tbody tr th {\n",
       "        vertical-align: top;\n",
       "    }\n",
       "\n",
       "    .dataframe thead th {\n",
       "        text-align: right;\n",
       "    }\n",
       "</style>\n",
       "<table border=\"1\" class=\"dataframe\">\n",
       "  <thead>\n",
       "    <tr style=\"text-align: right;\">\n",
       "      <th></th>\n",
       "      <th>Address</th>\n",
       "      <th>lat</th>\n",
       "      <th>lon</th>\n",
       "    </tr>\n",
       "  </thead>\n",
       "  <tbody>\n",
       "    <tr>\n",
       "      <th>1</th>\n",
       "      <td>Ferris' Upstairs Seafood and Oyster Bar</td>\n",
       "      <td>48.427011</td>\n",
       "      <td>-123.369044</td>\n",
       "    </tr>\n",
       "    <tr>\n",
       "      <th>2</th>\n",
       "      <td>Joe Fortes Seafood &amp; Chop House</td>\n",
       "      <td>49.284791</td>\n",
       "      <td>-123.124556</td>\n",
       "    </tr>\n",
       "    <tr>\n",
       "      <th>3</th>\n",
       "      <td>Blue Crab Seafood House</td>\n",
       "      <td>48.421903</td>\n",
       "      <td>-123.379851</td>\n",
       "    </tr>\n",
       "  </tbody>\n",
       "</table>\n",
       "</div>"
      ],
      "text/plain": [
       "                                   Address        lat         lon\n",
       "1  Ferris' Upstairs Seafood and Oyster Bar  48.427011 -123.369044\n",
       "2          Joe Fortes Seafood & Chop House  49.284791 -123.124556\n",
       "3                 Blue Crab Seafood House   48.421903 -123.379851"
      ]
     },
     "execution_count": 2,
     "metadata": {},
     "output_type": "execute_result"
    }
   ],
   "source": [
    "df_cand = pd.read_csv('candidates.csv',index_col=[0])\n",
    "df_cand"
   ]
  },
  {
   "cell_type": "markdown",
   "metadata": {},
   "source": [
    "#### 3. Nearby venues around places"
   ]
  },
  {
   "cell_type": "code",
   "execution_count": 3,
   "metadata": {},
   "outputs": [],
   "source": [
    "fs_categories = {\n",
    "    'Nightlife Spot': '4d4b7105d754a06376d81259',\n",
    "    'bus stop': '52f2ab2ebcbc57f1066b8b4f',\n",
    "    'Metro Station': '4bf58dd8d48988d1fd931735',\n",
    "    'Shopping Mall':'4bf58dd8d48988d1fd941735'\n",
    "}"
   ]
  },
  {
   "cell_type": "code",
   "execution_count": 4,
   "metadata": {},
   "outputs": [],
   "source": [
    "def venues_nearby(lat,lon,category):\n",
    "    VERSION = '20180604'\n",
    "    CLIENT_ID = 'FLSHE5WOWUI5JJPQBI1IMJBGK1KL0JX4CXV4DG2ZRQVPICQE'\n",
    "    CLIENT_SECRET = 'PKNCMWET2QX4MY2LIZWBJVNZAB4RRD3T2QBQIJAAWUCPS35C'\n",
    "    latitude = lat\n",
    "    longitude = lon\n",
    "    category = category\n",
    "    category_id=fs_categories[category]\n",
    "    radius = 500\n",
    "    url = 'https://api.foursquare.com/v2/venues/search?client_id={}&client_secret={}&ll={},{}&v={}&query={}&category_id={}&radius={}'.format(CLIENT_ID, CLIENT_SECRET, latitude, longitude,VERSION,category,category_id,radius)\n",
    "    result = requests.get(url = url).json()\n",
    "    venue = result['response']['venues']\n",
    "    df = json_normalize(venue)\n",
    "    if( len(df) == 0 ):       \n",
    "        print(\"no relevant information\")\n",
    "    else:\n",
    "        df = df.name\n",
    "    return df"
   ]
  },
  {
   "cell_type": "markdown",
   "metadata": {},
   "source": [
    "Now we are going to discover the no.1 restaurant."
   ]
  },
  {
   "cell_type": "code",
   "execution_count": 5,
   "metadata": {},
   "outputs": [
    {
     "data": {
      "text/html": [
       "<div>\n",
       "<style scoped>\n",
       "    .dataframe tbody tr th:only-of-type {\n",
       "        vertical-align: middle;\n",
       "    }\n",
       "\n",
       "    .dataframe tbody tr th {\n",
       "        vertical-align: top;\n",
       "    }\n",
       "\n",
       "    .dataframe thead th {\n",
       "        text-align: right;\n",
       "    }\n",
       "</style>\n",
       "<table border=\"1\" class=\"dataframe\">\n",
       "  <thead>\n",
       "    <tr style=\"text-align: right;\">\n",
       "      <th></th>\n",
       "      <th>Address</th>\n",
       "      <th>lat</th>\n",
       "      <th>lon</th>\n",
       "    </tr>\n",
       "  </thead>\n",
       "  <tbody>\n",
       "    <tr>\n",
       "      <th>1</th>\n",
       "      <td>Ferris' Upstairs Seafood and Oyster Bar</td>\n",
       "      <td>48.427011</td>\n",
       "      <td>-123.369044</td>\n",
       "    </tr>\n",
       "    <tr>\n",
       "      <th>2</th>\n",
       "      <td>Joe Fortes Seafood &amp; Chop House</td>\n",
       "      <td>49.284791</td>\n",
       "      <td>-123.124556</td>\n",
       "    </tr>\n",
       "    <tr>\n",
       "      <th>3</th>\n",
       "      <td>Blue Crab Seafood House</td>\n",
       "      <td>48.421903</td>\n",
       "      <td>-123.379851</td>\n",
       "    </tr>\n",
       "  </tbody>\n",
       "</table>\n",
       "</div>"
      ],
      "text/plain": [
       "                                   Address        lat         lon\n",
       "1  Ferris' Upstairs Seafood and Oyster Bar  48.427011 -123.369044\n",
       "2          Joe Fortes Seafood & Chop House  49.284791 -123.124556\n",
       "3                 Blue Crab Seafood House   48.421903 -123.379851"
      ]
     },
     "execution_count": 5,
     "metadata": {},
     "output_type": "execute_result"
    }
   ],
   "source": [
    "df_cand"
   ]
  },
  {
   "cell_type": "code",
   "execution_count": 14,
   "metadata": {},
   "outputs": [
    {
     "data": {
      "text/plain": [
       "(48.427011, -123.36904399999999)"
      ]
     },
     "execution_count": 14,
     "metadata": {},
     "output_type": "execute_result"
    }
   ],
   "source": [
    "lat = df_cand.lat[1]\n",
    "lon = df_cand.lon[1]\n",
    "lat,lon"
   ]
  },
  {
   "cell_type": "code",
   "execution_count": 7,
   "metadata": {
    "scrolled": true
   },
   "outputs": [
    {
     "data": {
      "text/plain": [
       "{'Nightlife Spot': '4d4b7105d754a06376d81259',\n",
       " 'bus stop': '52f2ab2ebcbc57f1066b8b4f',\n",
       " 'Metro Station': '4bf58dd8d48988d1fd931735',\n",
       " 'Shopping Mall': '4bf58dd8d48988d1fd941735'}"
      ]
     },
     "execution_count": 7,
     "metadata": {},
     "output_type": "execute_result"
    }
   ],
   "source": [
    "fs_categories"
   ]
  },
  {
   "cell_type": "code",
   "execution_count": 8,
   "metadata": {},
   "outputs": [],
   "source": [
    "import requests\n",
    "from pandas.io.json import json_normalize"
   ]
  },
  {
   "cell_type": "code",
   "execution_count": 35,
   "metadata": {},
   "outputs": [
    {
     "name": "stdout",
     "output_type": "stream",
     "text": [
      "no relevant information\n"
     ]
    }
   ],
   "source": [
    "df = venues_nearby(lat,lon,'Nightlife Spot')"
   ]
  },
  {
   "cell_type": "markdown",
   "metadata": {},
   "source": [
    "There is no nightlife spot around first restaurant."
   ]
  },
  {
   "cell_type": "markdown",
   "metadata": {},
   "source": [
    "How about bus stop?"
   ]
  },
  {
   "cell_type": "code",
   "execution_count": 11,
   "metadata": {},
   "outputs": [
    {
     "data": {
      "text/plain": [
       "0                    Bus Stop 54602 (250-256,258)\n",
       "1                Bus Stop 54601 (250/1/2/3/5/6/8)\n",
       "2    Bus Stop 54600 (250,251,252,253,255,256,258)\n",
       "3                                  Bus Stop 54780\n",
       "4                                  Bus Stop 54612\n",
       "5                                  Bus Stop 54613\n",
       "6                Winstanley Business Advisors Ltd\n",
       "Name: name, dtype: object"
      ]
     },
     "execution_count": 11,
     "metadata": {},
     "output_type": "execute_result"
    }
   ],
   "source": [
    "venues_nearby(lat,lon,'bus stop')"
   ]
  },
  {
   "cell_type": "code",
   "execution_count": 10,
   "metadata": {},
   "outputs": [
    {
     "data": {
      "text/plain": [
       "7"
      ]
     },
     "execution_count": 10,
     "metadata": {},
     "output_type": "execute_result"
    }
   ],
   "source": [
    "df.count()"
   ]
  },
  {
   "cell_type": "markdown",
   "metadata": {},
   "source": [
    "7 bus stops"
   ]
  },
  {
   "cell_type": "markdown",
   "metadata": {},
   "source": [
    "How about metro station?"
   ]
  },
  {
   "cell_type": "code",
   "execution_count": 12,
   "metadata": {},
   "outputs": [
    {
     "name": "stdout",
     "output_type": "stream",
     "text": [
      "no relevant information\n"
     ]
    },
    {
     "data": {
      "text/html": [
       "<div>\n",
       "<style scoped>\n",
       "    .dataframe tbody tr th:only-of-type {\n",
       "        vertical-align: middle;\n",
       "    }\n",
       "\n",
       "    .dataframe tbody tr th {\n",
       "        vertical-align: top;\n",
       "    }\n",
       "\n",
       "    .dataframe thead th {\n",
       "        text-align: right;\n",
       "    }\n",
       "</style>\n",
       "<table border=\"1\" class=\"dataframe\">\n",
       "  <thead>\n",
       "    <tr style=\"text-align: right;\">\n",
       "      <th></th>\n",
       "    </tr>\n",
       "  </thead>\n",
       "  <tbody>\n",
       "  </tbody>\n",
       "</table>\n",
       "</div>"
      ],
      "text/plain": [
       "Empty DataFrame\n",
       "Columns: []\n",
       "Index: []"
      ]
     },
     "execution_count": 12,
     "metadata": {},
     "output_type": "execute_result"
    }
   ],
   "source": [
    "venues_nearby(lat,lon,'Metro Station')"
   ]
  },
  {
   "cell_type": "markdown",
   "metadata": {},
   "source": [
    "no metro station"
   ]
  },
  {
   "cell_type": "code",
   "execution_count": 13,
   "metadata": {},
   "outputs": [
    {
     "name": "stdout",
     "output_type": "stream",
     "text": [
      "no relevant information\n"
     ]
    },
    {
     "data": {
      "text/html": [
       "<div>\n",
       "<style scoped>\n",
       "    .dataframe tbody tr th:only-of-type {\n",
       "        vertical-align: middle;\n",
       "    }\n",
       "\n",
       "    .dataframe tbody tr th {\n",
       "        vertical-align: top;\n",
       "    }\n",
       "\n",
       "    .dataframe thead th {\n",
       "        text-align: right;\n",
       "    }\n",
       "</style>\n",
       "<table border=\"1\" class=\"dataframe\">\n",
       "  <thead>\n",
       "    <tr style=\"text-align: right;\">\n",
       "      <th></th>\n",
       "    </tr>\n",
       "  </thead>\n",
       "  <tbody>\n",
       "  </tbody>\n",
       "</table>\n",
       "</div>"
      ],
      "text/plain": [
       "Empty DataFrame\n",
       "Columns: []\n",
       "Index: []"
      ]
     },
     "execution_count": 13,
     "metadata": {},
     "output_type": "execute_result"
    }
   ],
   "source": [
    "venues_nearby(lat,lon,'Shopping Mall')"
   ]
  },
  {
   "cell_type": "markdown",
   "metadata": {},
   "source": [
    "no shopping mall"
   ]
  },
  {
   "cell_type": "markdown",
   "metadata": {},
   "source": [
    "After the first around, we get there are 0 nightlife spot, 7 bus stop,0 metro station and 0 shopping mall around first restaurant."
   ]
  },
  {
   "cell_type": "markdown",
   "metadata": {},
   "source": [
    "#### 2nd restaurant"
   ]
  },
  {
   "cell_type": "code",
   "execution_count": 42,
   "metadata": {},
   "outputs": [
    {
     "data": {
      "text/plain": [
       "(49.282718, -123.123883)"
      ]
     },
     "execution_count": 42,
     "metadata": {},
     "output_type": "execute_result"
    }
   ],
   "source": [
    "lat = df_choice.lat[2]\n",
    "lon = df_choice.lon[2]\n",
    "lat,lon"
   ]
  },
  {
   "cell_type": "code",
   "execution_count": 44,
   "metadata": {},
   "outputs": [
    {
     "data": {
      "text/plain": [
       "0    Li'l Cheese Steak Spot\n",
       "1                  The Spot\n",
       "2          The Healing Spot\n",
       "3                The G Spot\n",
       "4               Donair Spot\n",
       "5                White Spot\n",
       "6                Triple O's\n",
       "Name: name, dtype: object"
      ]
     },
     "execution_count": 44,
     "metadata": {},
     "output_type": "execute_result"
    }
   ],
   "source": [
    "venues_nearby(lat,lon,'Nightlife Spot')"
   ]
  },
  {
   "cell_type": "markdown",
   "metadata": {},
   "source": [
    "7 nightlife spots"
   ]
  },
  {
   "cell_type": "code",
   "execution_count": 45,
   "metadata": {},
   "outputs": [
    {
     "data": {
      "text/plain": [
       "0                   Bus Stop 58705 (250/1/2/3/4/7)\n",
       "1         Bus Stop 54446 (240,241,242,246,247,N24)\n",
       "2                      Bus Stop 50045 (2,22,32,44)\n",
       "3                      Bus Stop 50046 (2,22,32,44)\n",
       "4                               Bus Stop 50624 (5)\n",
       "5        Bus Stop 54832 (4,6,7,10,14,16,50,N9,N17)\n",
       "6                               Bus Stop 50623 (5)\n",
       "7                            Bus Stop 50616 (5,N6)\n",
       "8            Bus Stop 61292 (4, 7, 10, 14, 16, 50)\n",
       "9         Bus Stop 61031 (240,241,242,246,247,N24)\n",
       "10                     Bus Stop 50030 (2,22,32,44)\n",
       "11                             Bus Stop 50530 (95)\n",
       "12        Bus Stop 54444 (240,241,242,246,247,N24)\n",
       "13                     Bus Stop 50029 (2,22,32,44)\n",
       "14                           Bus Stop 58138 (5,N6)\n",
       "15       Bus Stop 54831 (4,6,7,10,14,16,50,N17,N9)\n",
       "16                     Bus Stop 50044 (2,22,32,44)\n",
       "17                           Bus Stop 61508 (5,N6)\n",
       "18                              Bus Stop 50625 (5)\n",
       "19                     Bus Stop 50047 (2,22,32,44)\n",
       "20                     Bus Stop 50031 (2,22,32,44)\n",
       "21              Bus Stop 58144 (4,6,7,10,14,16,50)\n",
       "22              Bus Stop 54830 (4,6,7,10,14,16,50)\n",
       "23                        Bus Stop 59040 (5,17,20)\n",
       "24              Bus Stop 58326 (4,6,7,10,14,16,50)\n",
       "25    Bus Stop 50975 (240/1/2/6/7,250/1/2/3/4,N24)\n",
       "26                     Bus Stop 50028 (2,22,32,44)\n",
       "27             Bus Stop 50405 (209, 210, 211, 214)\n",
       "28      Bus Stop 61293 (4,5,6,7,10,14,16,17,20,50)\n",
       "29                     Bus Stop 50043 (2,22,32,44)\n",
       "Name: name, dtype: object"
      ]
     },
     "execution_count": 45,
     "metadata": {},
     "output_type": "execute_result"
    }
   ],
   "source": [
    "venues_nearby(lat,lon,'bus stop')"
   ]
  },
  {
   "cell_type": "markdown",
   "metadata": {},
   "source": [
    "30 bus stops"
   ]
  },
  {
   "cell_type": "code",
   "execution_count": 46,
   "metadata": {},
   "outputs": [
    {
     "data": {
      "text/plain": [
       "0                Vancouver City Centre SkyTrain Station\n",
       "1                              Burrard SkyTrain Station\n",
       "2                                            Metro News\n",
       "3                            Granville SkyTrain Station\n",
       "4                                            metro news\n",
       "5                      Metrowest Building Services Ltd.\n",
       "6                              Granville Station Dental\n",
       "7                          Metropolitan Hotel Vancouver\n",
       "8                                   J-Station Vancouver\n",
       "9                                   Metropolitan Towers\n",
       "10    Metropolitan Local Movers Vancouver - Best Mov...\n",
       "11                       Metropolitan Community College\n",
       "12                        Metropolitan Credit Adjusters\n",
       "13                                                 Esso\n",
       "14                               WeWork Burrard Station\n",
       "15    Zipcar Metropolitian Hotel 645 Howe Street & D...\n",
       "16                             Granville Station Dental\n",
       "17                        The granville station dentist\n",
       "18                 International News Granville Station\n",
       "19                          Library@Metropolitan Towers\n",
       "20                                           Jugo Juice\n",
       "21                           Garden@Metropolitan Towers\n",
       "22                               Bus Stop 58099 (22,44)\n",
       "23                                          Tim Hortons\n",
       "24                                            Starbucks\n",
       "Name: name, dtype: object"
      ]
     },
     "execution_count": 46,
     "metadata": {},
     "output_type": "execute_result"
    }
   ],
   "source": [
    "venues_nearby(lat,lon,'Metro Station')"
   ]
  },
  {
   "cell_type": "markdown",
   "metadata": {},
   "source": [
    "Here is the problem. I have checked the category_id of the metro station and that's correct. However, we could see some irrelevant information here. So I can only manually count them."
   ]
  },
  {
   "cell_type": "markdown",
   "metadata": {},
   "source": [
    "5 metro stations"
   ]
  },
  {
   "cell_type": "code",
   "execution_count": 49,
   "metadata": {},
   "outputs": [
    {
     "data": {
      "text/plain": [
       "0                  CF Pacific Centre\n",
       "1               Apple Pacific Centre\n",
       "2                     Granville Mall\n",
       "3              Vancouver Centre Mall\n",
       "4             Granville Mall Optical\n",
       "5          Pacific Centre Food Court\n",
       "6                       Royal Centre\n",
       "7     Personal Shopping Holt Renfrew\n",
       "8                             Rexall\n",
       "9                     RBC Royal Bank\n",
       "10               Teriyaki Experience\n",
       "Name: name, dtype: object"
      ]
     },
     "execution_count": 49,
     "metadata": {},
     "output_type": "execute_result"
    }
   ],
   "source": [
    "venues_nearby(lat,lon,'Shopping Mall')"
   ]
  },
  {
   "cell_type": "markdown",
   "metadata": {},
   "source": [
    "Same problem here and there is nothing wrong with my code. Count manually again. 5 shopping malls."
   ]
  },
  {
   "cell_type": "markdown",
   "metadata": {},
   "source": [
    "#### 3rd restaurant "
   ]
  },
  {
   "cell_type": "code",
   "execution_count": 50,
   "metadata": {},
   "outputs": [
    {
     "data": {
      "text/plain": [
       "(49.270894, -123.147585)"
      ]
     },
     "execution_count": 50,
     "metadata": {},
     "output_type": "execute_result"
    }
   ],
   "source": [
    "lat = df_choice.lat[3]\n",
    "lon = df_choice.lon[3]\n",
    "lat,lon"
   ]
  },
  {
   "cell_type": "code",
   "execution_count": 51,
   "metadata": {},
   "outputs": [
    {
     "name": "stdout",
     "output_type": "stream",
     "text": [
      "no relevant information\n"
     ]
    },
    {
     "data": {
      "text/html": [
       "<div>\n",
       "<style scoped>\n",
       "    .dataframe tbody tr th:only-of-type {\n",
       "        vertical-align: middle;\n",
       "    }\n",
       "\n",
       "    .dataframe tbody tr th {\n",
       "        vertical-align: top;\n",
       "    }\n",
       "\n",
       "    .dataframe thead th {\n",
       "        text-align: right;\n",
       "    }\n",
       "</style>\n",
       "<table border=\"1\" class=\"dataframe\">\n",
       "  <thead>\n",
       "    <tr style=\"text-align: right;\">\n",
       "      <th></th>\n",
       "    </tr>\n",
       "  </thead>\n",
       "  <tbody>\n",
       "  </tbody>\n",
       "</table>\n",
       "</div>"
      ],
      "text/plain": [
       "Empty DataFrame\n",
       "Columns: []\n",
       "Index: []"
      ]
     },
     "execution_count": 51,
     "metadata": {},
     "output_type": "execute_result"
    }
   ],
   "source": [
    "venues_nearby(lat,lon,'Nightlife Spot')"
   ]
  },
  {
   "cell_type": "code",
   "execution_count": 52,
   "metadata": {},
   "outputs": [
    {
     "data": {
      "text/plain": [
       "0                    Bus Stop 50072 (2,22,32)\n",
       "1                         Bus Stop 51941 (44)\n",
       "2                    Bus Stop 50101 (2,22,32)\n",
       "3                    Bus Stop 50071 (2,22,32)\n",
       "4                         Bus Stop 51941 (44)\n",
       "5                    Bus Stop 50069 (2,22,32)\n",
       "6                        Bus Stop 50399 (4,7)\n",
       "7                     Bus Stop 50579 (4,7,84)\n",
       "8                     Bus Stop 50400 (4,7,84)\n",
       "9                        Bus Stop 50580 (4,7)\n",
       "10                   Bus Stop 50070 (2,22,32)\n",
       "11                       Bus Stop 50398 (4,7)\n",
       "12                        Bus Stop 52062 (50)\n",
       "13                       Bus Stop 50581 (4,7)\n",
       "14                        Bus Stop 52065 (50)\n",
       "15                        Bus Stop 58661 (50)\n",
       "16                        Bus Stop 52061 (50)\n",
       "17             Bus 84 Express UBC/VCC Station\n",
       "18                     Ellis Business Lawyers\n",
       "19                   Business Now Service Inc\n",
       "20                            Is Biggest Bush\n",
       "21    Vancouver Trolley Stop Granville Island\n",
       "22                  lululemon athletica | SSC\n",
       "23                  Padgett Business Services\n",
       "Name: name, dtype: object"
      ]
     },
     "execution_count": 52,
     "metadata": {},
     "output_type": "execute_result"
    }
   ],
   "source": [
    "venues_nearby(lat,lon,'bus stop')\n"
   ]
  },
  {
   "cell_type": "code",
   "execution_count": 53,
   "metadata": {},
   "outputs": [
    {
     "data": {
      "text/plain": [
       "0    Bus 84 Express UBC/VCC Station\n",
       "1                              Esso\n",
       "2                 Avalon Stationery\n",
       "Name: name, dtype: object"
      ]
     },
     "execution_count": 53,
     "metadata": {},
     "output_type": "execute_result"
    }
   ],
   "source": [
    "venues_nearby(lat,lon,'Metro Station')"
   ]
  },
  {
   "cell_type": "code",
   "execution_count": 54,
   "metadata": {},
   "outputs": [
    {
     "name": "stdout",
     "output_type": "stream",
     "text": [
      "no relevant information\n"
     ]
    },
    {
     "data": {
      "text/html": [
       "<div>\n",
       "<style scoped>\n",
       "    .dataframe tbody tr th:only-of-type {\n",
       "        vertical-align: middle;\n",
       "    }\n",
       "\n",
       "    .dataframe tbody tr th {\n",
       "        vertical-align: top;\n",
       "    }\n",
       "\n",
       "    .dataframe thead th {\n",
       "        text-align: right;\n",
       "    }\n",
       "</style>\n",
       "<table border=\"1\" class=\"dataframe\">\n",
       "  <thead>\n",
       "    <tr style=\"text-align: right;\">\n",
       "      <th></th>\n",
       "    </tr>\n",
       "  </thead>\n",
       "  <tbody>\n",
       "  </tbody>\n",
       "</table>\n",
       "</div>"
      ],
      "text/plain": [
       "Empty DataFrame\n",
       "Columns: []\n",
       "Index: []"
      ]
     },
     "execution_count": 54,
     "metadata": {},
     "output_type": "execute_result"
    }
   ],
   "source": [
    "venues_nearby(lat,lon,'Shopping Mall')"
   ]
  },
  {
   "cell_type": "markdown",
   "metadata": {},
   "source": [
    "In conclusion, 0 nightlife spot, 17 bus stops, 1 metro station, 0 shopping mall. "
   ]
  },
  {
   "cell_type": "markdown",
   "metadata": {},
   "source": [
    "And then,we are able to get the following dataframe."
   ]
  },
  {
   "cell_type": "code",
   "execution_count": 60,
   "metadata": {},
   "outputs": [
    {
     "data": {
      "text/html": [
       "<div>\n",
       "<style scoped>\n",
       "    .dataframe tbody tr th:only-of-type {\n",
       "        vertical-align: middle;\n",
       "    }\n",
       "\n",
       "    .dataframe tbody tr th {\n",
       "        vertical-align: top;\n",
       "    }\n",
       "\n",
       "    .dataframe thead th {\n",
       "        text-align: right;\n",
       "    }\n",
       "</style>\n",
       "<table border=\"1\" class=\"dataframe\">\n",
       "  <thead>\n",
       "    <tr style=\"text-align: right;\">\n",
       "      <th></th>\n",
       "      <th>nightlife spot</th>\n",
       "      <th>bus stop</th>\n",
       "      <th>metro station</th>\n",
       "      <th>shopping mall</th>\n",
       "    </tr>\n",
       "    <tr>\n",
       "      <th>restaurant</th>\n",
       "      <th></th>\n",
       "      <th></th>\n",
       "      <th></th>\n",
       "      <th></th>\n",
       "    </tr>\n",
       "  </thead>\n",
       "  <tbody>\n",
       "    <tr>\n",
       "      <th>1</th>\n",
       "      <td>0</td>\n",
       "      <td>7</td>\n",
       "      <td>0</td>\n",
       "      <td>0</td>\n",
       "    </tr>\n",
       "    <tr>\n",
       "      <th>2</th>\n",
       "      <td>7</td>\n",
       "      <td>30</td>\n",
       "      <td>5</td>\n",
       "      <td>5</td>\n",
       "    </tr>\n",
       "    <tr>\n",
       "      <th>3</th>\n",
       "      <td>0</td>\n",
       "      <td>17</td>\n",
       "      <td>1</td>\n",
       "      <td>0</td>\n",
       "    </tr>\n",
       "  </tbody>\n",
       "</table>\n",
       "</div>"
      ],
      "text/plain": [
       "            nightlife spot  bus stop   metro station   shopping mall\n",
       "restaurant                                                          \n",
       "1                        0         7               0               0\n",
       "2                        7        30               5               5\n",
       "3                        0        17               1               0"
      ]
     },
     "execution_count": 60,
     "metadata": {},
     "output_type": "execute_result"
    }
   ],
   "source": [
    "df_choice_count = pd.read_csv('choice.csv',index_col=[0])\n",
    "df_choice_count"
   ]
  },
  {
   "cell_type": "markdown",
   "metadata": {},
   "source": [
    "For the next step, we are going to implement the same method to get the count of the nearby "
   ]
  }
 ],
 "metadata": {
  "kernelspec": {
   "display_name": "Python 3",
   "language": "python",
   "name": "python3"
  },
  "language_info": {
   "codemirror_mode": {
    "name": "ipython",
    "version": 3
   },
   "file_extension": ".py",
   "mimetype": "text/x-python",
   "name": "python",
   "nbconvert_exporter": "python",
   "pygments_lexer": "ipython3",
   "version": "3.7.2"
  }
 },
 "nbformat": 4,
 "nbformat_minor": 2
}
