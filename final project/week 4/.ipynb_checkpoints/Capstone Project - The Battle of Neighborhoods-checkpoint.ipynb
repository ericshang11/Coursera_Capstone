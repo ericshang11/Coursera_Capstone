{
 "cells": [
  {
   "cell_type": "markdown",
   "metadata": {},
   "source": [
    "# Capstone Project - The Battle of Neighborhoods"
   ]
  },
  {
   "cell_type": "markdown",
   "metadata": {},
   "source": [
    "## Introduction/Business Problem"
   ]
  },
  {
   "cell_type": "markdown",
   "metadata": {},
   "source": [
    "Introduction where you discuss the business problem and who would be interested in this project."
   ]
  },
  {
   "cell_type": "markdown",
   "metadata": {},
   "source": [
    "#### \"Would you recommend a location in Toronto to open a new Canadian style restaurant ?\"  \n"
   ]
  },
  {
   "cell_type": "markdown",
   "metadata": {},
   "source": [
    "My boss, a stakeholder is dedicated to opening __a new Canadian style restaurant__ in Toronto. He has almost prepared everything well. Right now, the only thing that he concerns is to find an appropriate place. \n",
    "\n",
    "He right now has discovered **4** available rental places which are suitable to open a restaurant. He asks me to do some research to find the most suitable place.  \n",
    "\n",
    "As this restaurant would be a high end one. People have to make reservation before coming by. So, it doesn’t have to be near big shopping malls or downtown. \n",
    "\n",
    "However, the stakeholder explains that this restaurant must\n",
    "- be near public transport facilities\n",
    "- got plenty of parking lots"
   ]
  },
  {
   "cell_type": "markdown",
   "metadata": {},
   "source": [
    "He has already tried **top 5 Canadian restaurants** listed by Opentable. He told me this could be considered as the profile. "
   ]
  },
  {
   "cell_type": "markdown",
   "metadata": {},
   "source": [
    "## Data"
   ]
  },
  {
   "cell_type": "markdown",
   "metadata": {},
   "source": [
    "Data where you describe the data that will be used to solve the problem and the source of the data."
   ]
  },
  {
   "cell_type": "markdown",
   "metadata": {},
   "source": [
    "According to the question, I need to find following data to resolve the problem."
   ]
  },
  {
   "cell_type": "markdown",
   "metadata": {},
   "source": [
    "#### 1. Stakeholder's choice "
   ]
  },
  {
   "cell_type": "code",
   "execution_count": 1,
   "metadata": {},
   "outputs": [
    {
     "data": {
      "text/html": [
       "<div>\n",
       "<style scoped>\n",
       "    .dataframe tbody tr th:only-of-type {\n",
       "        vertical-align: middle;\n",
       "    }\n",
       "\n",
       "    .dataframe tbody tr th {\n",
       "        vertical-align: top;\n",
       "    }\n",
       "\n",
       "    .dataframe thead th {\n",
       "        text-align: right;\n",
       "    }\n",
       "</style>\n",
       "<table border=\"1\" class=\"dataframe\">\n",
       "  <thead>\n",
       "    <tr style=\"text-align: right;\">\n",
       "      <th></th>\n",
       "      <th>Name</th>\n",
       "      <th>lat</th>\n",
       "      <th>lon</th>\n",
       "      <th>rating</th>\n",
       "    </tr>\n",
       "  </thead>\n",
       "  <tbody>\n",
       "    <tr>\n",
       "      <th>1</th>\n",
       "      <td>Fiorentina</td>\n",
       "      <td>43.677637</td>\n",
       "      <td>-79.350097</td>\n",
       "      <td>5.0</td>\n",
       "    </tr>\n",
       "    <tr>\n",
       "      <th>2</th>\n",
       "      <td>Rust Bistrobar</td>\n",
       "      <td>43.378301</td>\n",
       "      <td>-79.804040</td>\n",
       "      <td>4.0</td>\n",
       "    </tr>\n",
       "    <tr>\n",
       "      <th>3</th>\n",
       "      <td>HAMBRGR - Hamilton Downtown</td>\n",
       "      <td>43.257222</td>\n",
       "      <td>-79.866935</td>\n",
       "      <td>4.0</td>\n",
       "    </tr>\n",
       "    <tr>\n",
       "      <th>4</th>\n",
       "      <td>The Prune</td>\n",
       "      <td>43.370426</td>\n",
       "      <td>-80.977201</td>\n",
       "      <td>3.0</td>\n",
       "    </tr>\n",
       "    <tr>\n",
       "      <th>5</th>\n",
       "      <td>Her Father's Cider Bar + Kitchen</td>\n",
       "      <td>43.662325</td>\n",
       "      <td>-79.404570</td>\n",
       "      <td>4.0</td>\n",
       "    </tr>\n",
       "  </tbody>\n",
       "</table>\n",
       "</div>"
      ],
      "text/plain": [
       "                               Name        lat        lon  rating\n",
       "1                        Fiorentina  43.677637 -79.350097     5.0\n",
       "2                    Rust Bistrobar  43.378301 -79.804040     4.0\n",
       "3       HAMBRGR - Hamilton Downtown  43.257222 -79.866935     4.0\n",
       "4                         The Prune  43.370426 -80.977201     3.0\n",
       "5  Her Father's Cider Bar + Kitchen  43.662325 -79.404570     4.0"
      ]
     },
     "execution_count": 1,
     "metadata": {},
     "output_type": "execute_result"
    }
   ],
   "source": [
    "import pandas as pd\n",
    "df_choice = pd.read_csv('restaurant.csv',index_col=[0])\n",
    "df_choice"
   ]
  },
  {
   "cell_type": "code",
   "execution_count": 7,
   "metadata": {},
   "outputs": [
    {
     "data": {
      "text/plain": [
       "'Fiorentina'"
      ]
     },
     "execution_count": 7,
     "metadata": {},
     "output_type": "execute_result"
    }
   ],
   "source": [
    "df_choice.Name[1]"
   ]
  },
  {
   "cell_type": "markdown",
   "metadata": {},
   "source": [
    "#### 2.  Four possible  places  "
   ]
  },
  {
   "cell_type": "markdown",
   "metadata": {},
   "source": [
    "I randomly chose four places from google map and get the coordinates down into the csv file."
   ]
  },
  {
   "cell_type": "code",
   "execution_count": 36,
   "metadata": {},
   "outputs": [
    {
     "data": {
      "text/html": [
       "<div>\n",
       "<style scoped>\n",
       "    .dataframe tbody tr th:only-of-type {\n",
       "        vertical-align: middle;\n",
       "    }\n",
       "\n",
       "    .dataframe tbody tr th {\n",
       "        vertical-align: top;\n",
       "    }\n",
       "\n",
       "    .dataframe thead th {\n",
       "        text-align: right;\n",
       "    }\n",
       "</style>\n",
       "<table border=\"1\" class=\"dataframe\">\n",
       "  <thead>\n",
       "    <tr style=\"text-align: right;\">\n",
       "      <th></th>\n",
       "      <th>Address</th>\n",
       "      <th>lat</th>\n",
       "      <th>lon</th>\n",
       "    </tr>\n",
       "  </thead>\n",
       "  <tbody>\n",
       "    <tr>\n",
       "      <th>1</th>\n",
       "      <td>1320 King St W</td>\n",
       "      <td>43.637807</td>\n",
       "      <td>-79.432844</td>\n",
       "    </tr>\n",
       "    <tr>\n",
       "      <th>2</th>\n",
       "      <td>518 Dufferin St</td>\n",
       "      <td>43.646427</td>\n",
       "      <td>-79.430449</td>\n",
       "    </tr>\n",
       "    <tr>\n",
       "      <th>3</th>\n",
       "      <td>1360 Queen St W</td>\n",
       "      <td>43.641495</td>\n",
       "      <td>-79.433324</td>\n",
       "    </tr>\n",
       "    <tr>\n",
       "      <th>4</th>\n",
       "      <td>100 Starchan Ave</td>\n",
       "      <td>43.641295</td>\n",
       "      <td>-79.413892</td>\n",
       "    </tr>\n",
       "  </tbody>\n",
       "</table>\n",
       "</div>"
      ],
      "text/plain": [
       "            Address        lat        lon\n",
       "1    1320 King St W  43.637807 -79.432844\n",
       "2   518 Dufferin St  43.646427 -79.430449\n",
       "3   1360 Queen St W  43.641495 -79.433324\n",
       "4  100 Starchan Ave  43.641295 -79.413892"
      ]
     },
     "execution_count": 36,
     "metadata": {},
     "output_type": "execute_result"
    }
   ],
   "source": [
    "df_cand = pd.read_csv('candidates.csv',index_col=[0])\n",
    "df_cand"
   ]
  },
  {
   "cell_type": "markdown",
   "metadata": {},
   "source": [
    "#### 3. Nearby venues around places"
   ]
  },
  {
   "cell_type": "markdown",
   "metadata": {},
   "source": [
    "It is recommended by the stakeholder that the restaurant should be surroned by some public transport facilities. Therefore, we are going to discover the following three categories."
   ]
  },
  {
   "cell_type": "code",
   "execution_count": 11,
   "metadata": {},
   "outputs": [],
   "source": [
    "fs_categories = {\n",
    "    'Parking': '4c38df4de52ce0d596b336e1',\n",
    "    'Metro Station': '4bf58dd8d48988d1fd931735',\n",
    "    'bus stop': '52f2ab2ebcbc57f1066b8b4f'\n",
    "}"
   ]
  },
  {
   "cell_type": "code",
   "execution_count": null,
   "metadata": {},
   "outputs": [],
   "source": [
    "VERSION = '20180604'\n",
    "CLIENT_ID = 'FLSHE5WOWUI5JJPQBI1IMJBGK1KL0JX4CXV4DG2ZRQVPICQE'\n",
    "CLIENT_SECRET = 'PKNCMWET2QX4MY2LIZWBJVNZAB4RRD3T2QBQIJAAWUCPS35C'\n",
    "latitude = \n",
    "longitude = \n",
    "radius = 500\n",
    "LIMIT = 100\n",
    "\n",
    "url = 'https://api.foursquare.com/v2/venues/explore?client_id={}&client_secret={}&ll={},{}&v={}&radius={}&limit={}'.format(CLIENT_ID, CLIENT_SECRET, latitude, longitude, VERSION,radius, LIMIT)"
   ]
  },
  {
   "cell_type": "code",
   "execution_count": null,
   "metadata": {},
   "outputs": [],
   "source": [
    "We will test the first "
   ]
  },
  {
   "cell_type": "code",
   "execution_count": 14,
   "metadata": {},
   "outputs": [],
   "source": [
    "# Define a function to search nearby information and convert the result as dataframe\n",
    "def venues_nearby(latitude, longitude, category, verbose=True):    \n",
    "    results = fs.venues.search(\n",
    "        params = {\n",
    "            'query': category, \n",
    "            'll': '{},{}'.format(latitude, longitude),\n",
    "            'radius': RADIUS,\n",
    "            'categoryId': fs_categories[category]\n",
    "        }\n",
    "    )    \n",
    "    df = json_normalize(results['venues'])\n",
    "    cols = ['Name','Latitude','Longitude','Tips','Users','Visits']    \n",
    "    if( len(df) == 0 ):        \n",
    "        df = pd.DataFrame(columns=cols)\n",
    "    else:        \n",
    "        df = df[['name','location.lat','location.lng','stats.tipCount','stats.usersCount','stats.visitsCount']]\n",
    "        df.columns = cols\n",
    "    if( verbose ):\n",
    "        print('{} \"{}\" venues are found within {}m of location'.format(len(df), category, RADIUS))\n",
    "    return df\n",
    "    "
   ]
  },
  {
   "cell_type": "code",
   "execution_count": null,
   "metadata": {},
   "outputs": [],
   "source": [
    "venues_nearby(cinema['Latitude'], cinema['Longitude'], 'Metro Station').head()"
   ]
  }
 ],
 "metadata": {
  "kernelspec": {
   "display_name": "Python 3",
   "language": "python",
   "name": "python3"
  },
  "language_info": {
   "codemirror_mode": {
    "name": "ipython",
    "version": 3
   },
   "file_extension": ".py",
   "mimetype": "text/x-python",
   "name": "python",
   "nbconvert_exporter": "python",
   "pygments_lexer": "ipython3",
   "version": "3.7.2"
  }
 },
 "nbformat": 4,
 "nbformat_minor": 2
}
