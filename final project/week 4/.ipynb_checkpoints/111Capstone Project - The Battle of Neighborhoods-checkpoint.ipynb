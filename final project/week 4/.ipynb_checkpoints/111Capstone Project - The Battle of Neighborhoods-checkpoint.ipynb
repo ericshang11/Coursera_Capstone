{
 "cells": [
  {
   "cell_type": "markdown",
   "metadata": {},
   "source": [
    "# Capstone Project - The Battle of Neighborhoods"
   ]
  },
  {
   "cell_type": "markdown",
   "metadata": {},
   "source": [
    "## Introduction/Business Problem"
   ]
  },
  {
   "cell_type": "markdown",
   "metadata": {},
   "source": [
    "Introduction where you discuss the business problem and who would be interested in this project."
   ]
  },
  {
   "cell_type": "markdown",
   "metadata": {},
   "source": [
    "#### \"Would you recommend a location in Vancouver to open a new Seafood restaurant ?\"  \n"
   ]
  },
  {
   "cell_type": "markdown",
   "metadata": {},
   "source": [
    "Vancouver is closed to the sea therefore it's quite famous for its seafood. My boss, an American investor just moved here and decided to buy one Seafood restaurant and make it the best seafood restaurants in Vancouver.\n",
    "\n",
    "He has tried top 3 seafood restaurants elected by OpenTable and rated them. He asked me to investigate the top 4-6 restaurants and sent him a report to help him make decisions. \n",
    "\n",
    "He told me his ideal restaurant should \n",
    "- be near public transport facilities\n",
    "- be closed to waterfront\n"
   ]
  },
  {
   "cell_type": "markdown",
   "metadata": {},
   "source": [
    "## Data"
   ]
  },
  {
   "cell_type": "markdown",
   "metadata": {},
   "source": [
    "Data where you describe the data that will be used to solve the problem and the source of the data."
   ]
  },
  {
   "cell_type": "markdown",
   "metadata": {},
   "source": [
    "According to the question, I need to find following data to resolve the problem."
   ]
  },
  {
   "cell_type": "markdown",
   "metadata": {},
   "source": [
    "#### 1. Stakeholder's choice "
   ]
  },
  {
   "cell_type": "code",
   "execution_count": 1,
   "metadata": {},
   "outputs": [],
   "source": [
    "import pandas as pd\n",
    "df_choice = pd.read_csv('restaurant.csv',index_col=[0])"
   ]
  },
  {
   "cell_type": "code",
   "execution_count": 2,
   "metadata": {},
   "outputs": [
    {
     "data": {
      "text/html": [
       "<div>\n",
       "<style scoped>\n",
       "    .dataframe tbody tr th:only-of-type {\n",
       "        vertical-align: middle;\n",
       "    }\n",
       "\n",
       "    .dataframe tbody tr th {\n",
       "        vertical-align: top;\n",
       "    }\n",
       "\n",
       "    .dataframe thead th {\n",
       "        text-align: right;\n",
       "    }\n",
       "</style>\n",
       "<table border=\"1\" class=\"dataframe\">\n",
       "  <thead>\n",
       "    <tr style=\"text-align: right;\">\n",
       "      <th></th>\n",
       "      <th>Name</th>\n",
       "      <th>lat</th>\n",
       "      <th>lon</th>\n",
       "      <th>rating</th>\n",
       "    </tr>\n",
       "  </thead>\n",
       "  <tbody>\n",
       "    <tr>\n",
       "      <th>1</th>\n",
       "      <td>Ancora Ambleside</td>\n",
       "      <td>49.327349</td>\n",
       "      <td>-123.154458</td>\n",
       "      <td>5.0</td>\n",
       "    </tr>\n",
       "    <tr>\n",
       "      <th>2</th>\n",
       "      <td>Boulevard Kitchen &amp; Oyster Bar</td>\n",
       "      <td>49.282718</td>\n",
       "      <td>-123.123883</td>\n",
       "      <td>4.0</td>\n",
       "    </tr>\n",
       "    <tr>\n",
       "      <th>3</th>\n",
       "      <td>Oddfish Restaurant</td>\n",
       "      <td>49.270894</td>\n",
       "      <td>-123.147585</td>\n",
       "      <td>4.0</td>\n",
       "    </tr>\n",
       "  </tbody>\n",
       "</table>\n",
       "</div>"
      ],
      "text/plain": [
       "                             Name        lat         lon  rating\n",
       "1                Ancora Ambleside  49.327349 -123.154458     5.0\n",
       "2  Boulevard Kitchen & Oyster Bar  49.282718 -123.123883     4.0\n",
       "3              Oddfish Restaurant  49.270894 -123.147585     4.0"
      ]
     },
     "execution_count": 2,
     "metadata": {},
     "output_type": "execute_result"
    }
   ],
   "source": [
    "df_choice"
   ]
  },
  {
   "cell_type": "markdown",
   "metadata": {},
   "source": [
    "#### 2.  Four possible  places  "
   ]
  },
  {
   "cell_type": "markdown",
   "metadata": {},
   "source": [
    "I randomly chose four places from google map and get the coordinates down into the csv file."
   ]
  },
  {
   "cell_type": "code",
   "execution_count": 3,
   "metadata": {},
   "outputs": [
    {
     "data": {
      "text/html": [
       "<div>\n",
       "<style scoped>\n",
       "    .dataframe tbody tr th:only-of-type {\n",
       "        vertical-align: middle;\n",
       "    }\n",
       "\n",
       "    .dataframe tbody tr th {\n",
       "        vertical-align: top;\n",
       "    }\n",
       "\n",
       "    .dataframe thead th {\n",
       "        text-align: right;\n",
       "    }\n",
       "</style>\n",
       "<table border=\"1\" class=\"dataframe\">\n",
       "  <thead>\n",
       "    <tr style=\"text-align: right;\">\n",
       "      <th></th>\n",
       "      <th>Address</th>\n",
       "      <th>lat</th>\n",
       "      <th>lon</th>\n",
       "    </tr>\n",
       "  </thead>\n",
       "  <tbody>\n",
       "    <tr>\n",
       "      <th>1</th>\n",
       "      <td>Ferris' Upstairs Seafood and Oyster Bar</td>\n",
       "      <td>48.427011</td>\n",
       "      <td>-123.369044</td>\n",
       "    </tr>\n",
       "    <tr>\n",
       "      <th>2</th>\n",
       "      <td>Joe Fortes Seafood &amp; Chop House</td>\n",
       "      <td>49.284791</td>\n",
       "      <td>-123.124556</td>\n",
       "    </tr>\n",
       "    <tr>\n",
       "      <th>3</th>\n",
       "      <td>Blue Crab Seafood House</td>\n",
       "      <td>48.421903</td>\n",
       "      <td>-123.379851</td>\n",
       "    </tr>\n",
       "  </tbody>\n",
       "</table>\n",
       "</div>"
      ],
      "text/plain": [
       "                                   Address        lat         lon\n",
       "1  Ferris' Upstairs Seafood and Oyster Bar  48.427011 -123.369044\n",
       "2          Joe Fortes Seafood & Chop House  49.284791 -123.124556\n",
       "3                 Blue Crab Seafood House   48.421903 -123.379851"
      ]
     },
     "execution_count": 3,
     "metadata": {},
     "output_type": "execute_result"
    }
   ],
   "source": [
    "df_cand = pd.read_csv('candidates.csv',index_col=[0])\n",
    "df_cand"
   ]
  },
  {
   "cell_type": "markdown",
   "metadata": {},
   "source": [
    "#### 3. Nearby venues around places"
   ]
  },
  {
   "cell_type": "markdown",
   "metadata": {},
   "source": [
    "It is recommended by the stakeholder that the restaurant should be surrounded by some public transport facilities. Therefore, we are going to discover the following three categories. We will use foursquare api to get those info."
   ]
  },
  {
   "cell_type": "code",
   "execution_count": 4,
   "metadata": {},
   "outputs": [],
   "source": [
    "fs_categories = {\n",
    "    'Waterfront':'56aa371be4b08b9a8d5734c3',\n",
    "    'Metro Station': '4bf58dd8d48988d1fd931735',\n",
    "    'bus stop': '52f2ab2ebcbc57f1066b8b4f'\n",
    "}"
   ]
  },
  {
   "cell_type": "markdown",
   "metadata": {},
   "source": [
    "We will use the first stakeholder's choice to testify the function of api."
   ]
  },
  {
   "cell_type": "code",
   "execution_count": 9,
   "metadata": {},
   "outputs": [],
   "source": [
    "VERSION = '20180604'\n",
    "CLIENT_ID = 'FLSHE5WOWUI5JJPQBI1IMJBGK1KL0JX4CXV4DG2ZRQVPICQE'\n",
    "CLIENT_SECRET = 'PKNCMWET2QX4MY2LIZWBJVNZAB4RRD3T2QBQIJAAWUCPS35C'\n",
    "latitude = 49.327349\n",
    "longitude = -123.154458\n",
    "category = 'Waterfront'\n",
    "radius = 500\n",
    "category_id='56aa371be4b08b9a8d5734c3'"
   ]
  },
  {
   "cell_type": "code",
   "execution_count": 10,
   "metadata": {},
   "outputs": [
    {
     "data": {
      "text/plain": [
       "'https://api.foursquare.com/v2/venues/search?client_id=FLSHE5WOWUI5JJPQBI1IMJBGK1KL0JX4CXV4DG2ZRQVPICQE&client_secret=PKNCMWET2QX4MY2LIZWBJVNZAB4RRD3T2QBQIJAAWUCPS35C&ll=49.327349,-123.154458&v=20180604&query=Waterfront&category_id=56aa371be4b08b9a8d5734c3&radius=500'"
      ]
     },
     "execution_count": 10,
     "metadata": {},
     "output_type": "execute_result"
    }
   ],
   "source": [
    "url = 'https://api.foursquare.com/v2/venues/search?client_id={}&client_secret={}&ll={},{}&v={}&query={}&category_id={}&radius={}'.format(CLIENT_ID, CLIENT_SECRET, latitude, longitude,VERSION,category,category_id,radius)\n",
    "url"
   ]
  },
  {
   "cell_type": "code",
   "execution_count": 11,
   "metadata": {},
   "outputs": [
    {
     "data": {
      "text/plain": [
       "{'meta': {'code': 200, 'requestId': '5e045a08aba297001bd58ef3'},\n",
       " 'response': {'venues': []}}"
      ]
     },
     "execution_count": 11,
     "metadata": {},
     "output_type": "execute_result"
    }
   ],
   "source": [
    "import requests\n",
    "result = requests.get(url = url).json()\n",
    "result"
   ]
  },
  {
   "cell_type": "code",
   "execution_count": 12,
   "metadata": {},
   "outputs": [],
   "source": [
    "venues = result['response']['venues']"
   ]
  },
  {
   "cell_type": "code",
   "execution_count": 104,
   "metadata": {
    "scrolled": true
   },
   "outputs": [
    {
     "data": {
      "text/html": [
       "<div>\n",
       "<style scoped>\n",
       "    .dataframe tbody tr th:only-of-type {\n",
       "        vertical-align: middle;\n",
       "    }\n",
       "\n",
       "    .dataframe tbody tr th {\n",
       "        vertical-align: top;\n",
       "    }\n",
       "\n",
       "    .dataframe thead th {\n",
       "        text-align: right;\n",
       "    }\n",
       "</style>\n",
       "<table border=\"1\" class=\"dataframe\">\n",
       "  <thead>\n",
       "    <tr style=\"text-align: right;\">\n",
       "      <th></th>\n",
       "      <th>categories</th>\n",
       "      <th>hasPerk</th>\n",
       "      <th>id</th>\n",
       "      <th>location.address</th>\n",
       "      <th>location.cc</th>\n",
       "      <th>location.city</th>\n",
       "      <th>location.country</th>\n",
       "      <th>location.crossStreet</th>\n",
       "      <th>location.distance</th>\n",
       "      <th>location.formattedAddress</th>\n",
       "      <th>location.labeledLatLngs</th>\n",
       "      <th>location.lat</th>\n",
       "      <th>location.lng</th>\n",
       "      <th>location.postalCode</th>\n",
       "      <th>location.state</th>\n",
       "      <th>name</th>\n",
       "      <th>referralId</th>\n",
       "    </tr>\n",
       "  </thead>\n",
       "  <tbody>\n",
       "    <tr>\n",
       "      <th>0</th>\n",
       "      <td>[{'id': '4bf58dd8d48988d12b951735', 'name': 'B...</td>\n",
       "      <td>False</td>\n",
       "      <td>4df0dbd3b0fbfee72f409017</td>\n",
       "      <td>Marine Dr</td>\n",
       "      <td>CA</td>\n",
       "      <td>West Vancouver</td>\n",
       "      <td>Canada</td>\n",
       "      <td>at 14th St</td>\n",
       "      <td>71</td>\n",
       "      <td>[Marine Dr (at 14th St), West Vancouver BC, Ca...</td>\n",
       "      <td>[{'label': 'display', 'lat': 49.327849, 'lng':...</td>\n",
       "      <td>49.327849</td>\n",
       "      <td>-123.153830</td>\n",
       "      <td>NaN</td>\n",
       "      <td>BC</td>\n",
       "      <td>Bus Stop 54602 (250-256,258)</td>\n",
       "      <td>v-1577333278</td>\n",
       "    </tr>\n",
       "    <tr>\n",
       "      <th>1</th>\n",
       "      <td>[{'id': '4bf58dd8d48988d1fe931735', 'name': 'B...</td>\n",
       "      <td>False</td>\n",
       "      <td>4ad4abb8f964a52096e820e3</td>\n",
       "      <td>Marine Dr</td>\n",
       "      <td>CA</td>\n",
       "      <td>West Vancouver</td>\n",
       "      <td>Canada</td>\n",
       "      <td>at 15 St</td>\n",
       "      <td>181</td>\n",
       "      <td>[Marine Dr (at 15 St), West Vancouver BC, Canada]</td>\n",
       "      <td>[{'label': 'display', 'lat': 49.328202, 'lng':...</td>\n",
       "      <td>49.328202</td>\n",
       "      <td>-123.156595</td>\n",
       "      <td>NaN</td>\n",
       "      <td>BC</td>\n",
       "      <td>Bus Stop 54601 (250/1/2/3/5/6/8)</td>\n",
       "      <td>v-1577333278</td>\n",
       "    </tr>\n",
       "    <tr>\n",
       "      <th>2</th>\n",
       "      <td>[{'id': '52f2ab2ebcbc57f1066b8b4f', 'name': 'B...</td>\n",
       "      <td>False</td>\n",
       "      <td>4cd76dc8a42b236a70d3fa08</td>\n",
       "      <td>Marine Dr</td>\n",
       "      <td>CA</td>\n",
       "      <td>West Vancouver</td>\n",
       "      <td>Canada</td>\n",
       "      <td>at 17th St</td>\n",
       "      <td>414</td>\n",
       "      <td>[Marine Dr (at 17th St), West Vancouver BC, Ca...</td>\n",
       "      <td>[{'label': 'display', 'lat': 49.32856, 'lng': ...</td>\n",
       "      <td>49.328560</td>\n",
       "      <td>-123.159855</td>\n",
       "      <td>NaN</td>\n",
       "      <td>BC</td>\n",
       "      <td>Bus Stop 54600 (250,251,252,253,255,256,258)</td>\n",
       "      <td>v-1577333278</td>\n",
       "    </tr>\n",
       "    <tr>\n",
       "      <th>3</th>\n",
       "      <td>[{'id': '52f2ab2ebcbc57f1066b8b4f', 'name': 'B...</td>\n",
       "      <td>False</td>\n",
       "      <td>5c6b6a00e07550002cbbf6e3</td>\n",
       "      <td>NaN</td>\n",
       "      <td>CA</td>\n",
       "      <td>West Vancouver</td>\n",
       "      <td>Canada</td>\n",
       "      <td>NaN</td>\n",
       "      <td>79</td>\n",
       "      <td>[West Vancouver BC V7T 1B8, Canada]</td>\n",
       "      <td>[{'label': 'display', 'lat': 49.328047, 'lng':...</td>\n",
       "      <td>49.328047</td>\n",
       "      <td>-123.154716</td>\n",
       "      <td>V7T 1B8</td>\n",
       "      <td>BC</td>\n",
       "      <td>Bus Stop 54780</td>\n",
       "      <td>v-1577333278</td>\n",
       "    </tr>\n",
       "    <tr>\n",
       "      <th>4</th>\n",
       "      <td>[{'id': '52f2ab2ebcbc57f1066b8b4f', 'name': 'B...</td>\n",
       "      <td>False</td>\n",
       "      <td>5d57ad12fc051f00072e89b2</td>\n",
       "      <td>NaN</td>\n",
       "      <td>CA</td>\n",
       "      <td>West Vancouver</td>\n",
       "      <td>Canada</td>\n",
       "      <td>NaN</td>\n",
       "      <td>222</td>\n",
       "      <td>[West Vancouver BC V7V 1H9, Canada]</td>\n",
       "      <td>[{'label': 'display', 'lat': 49.328402, 'lng':...</td>\n",
       "      <td>49.328402</td>\n",
       "      <td>-123.157059</td>\n",
       "      <td>V7V 1H9</td>\n",
       "      <td>BC</td>\n",
       "      <td>Bus Stop 54612</td>\n",
       "      <td>v-1577333278</td>\n",
       "    </tr>\n",
       "  </tbody>\n",
       "</table>\n",
       "</div>"
      ],
      "text/plain": [
       "                                          categories  hasPerk  \\\n",
       "0  [{'id': '4bf58dd8d48988d12b951735', 'name': 'B...    False   \n",
       "1  [{'id': '4bf58dd8d48988d1fe931735', 'name': 'B...    False   \n",
       "2  [{'id': '52f2ab2ebcbc57f1066b8b4f', 'name': 'B...    False   \n",
       "3  [{'id': '52f2ab2ebcbc57f1066b8b4f', 'name': 'B...    False   \n",
       "4  [{'id': '52f2ab2ebcbc57f1066b8b4f', 'name': 'B...    False   \n",
       "\n",
       "                         id location.address location.cc   location.city  \\\n",
       "0  4df0dbd3b0fbfee72f409017        Marine Dr          CA  West Vancouver   \n",
       "1  4ad4abb8f964a52096e820e3        Marine Dr          CA  West Vancouver   \n",
       "2  4cd76dc8a42b236a70d3fa08        Marine Dr          CA  West Vancouver   \n",
       "3  5c6b6a00e07550002cbbf6e3              NaN          CA  West Vancouver   \n",
       "4  5d57ad12fc051f00072e89b2              NaN          CA  West Vancouver   \n",
       "\n",
       "  location.country location.crossStreet  location.distance  \\\n",
       "0           Canada           at 14th St                 71   \n",
       "1           Canada             at 15 St                181   \n",
       "2           Canada           at 17th St                414   \n",
       "3           Canada                  NaN                 79   \n",
       "4           Canada                  NaN                222   \n",
       "\n",
       "                           location.formattedAddress  \\\n",
       "0  [Marine Dr (at 14th St), West Vancouver BC, Ca...   \n",
       "1  [Marine Dr (at 15 St), West Vancouver BC, Canada]   \n",
       "2  [Marine Dr (at 17th St), West Vancouver BC, Ca...   \n",
       "3                [West Vancouver BC V7T 1B8, Canada]   \n",
       "4                [West Vancouver BC V7V 1H9, Canada]   \n",
       "\n",
       "                             location.labeledLatLngs  location.lat  \\\n",
       "0  [{'label': 'display', 'lat': 49.327849, 'lng':...     49.327849   \n",
       "1  [{'label': 'display', 'lat': 49.328202, 'lng':...     49.328202   \n",
       "2  [{'label': 'display', 'lat': 49.32856, 'lng': ...     49.328560   \n",
       "3  [{'label': 'display', 'lat': 49.328047, 'lng':...     49.328047   \n",
       "4  [{'label': 'display', 'lat': 49.328402, 'lng':...     49.328402   \n",
       "\n",
       "   location.lng location.postalCode location.state  \\\n",
       "0   -123.153830                 NaN             BC   \n",
       "1   -123.156595                 NaN             BC   \n",
       "2   -123.159855                 NaN             BC   \n",
       "3   -123.154716             V7T 1B8             BC   \n",
       "4   -123.157059             V7V 1H9             BC   \n",
       "\n",
       "                                           name    referralId  \n",
       "0                  Bus Stop 54602 (250-256,258)  v-1577333278  \n",
       "1              Bus Stop 54601 (250/1/2/3/5/6/8)  v-1577333278  \n",
       "2  Bus Stop 54600 (250,251,252,253,255,256,258)  v-1577333278  \n",
       "3                                Bus Stop 54780  v-1577333278  \n",
       "4                                Bus Stop 54612  v-1577333278  "
      ]
     },
     "execution_count": 104,
     "metadata": {},
     "output_type": "execute_result"
    }
   ],
   "source": [
    "from pandas.io.json import json_normalize\n",
    "dataframe = json_normalize(venues)\n",
    "dataframe.head()"
   ]
  },
  {
   "cell_type": "code",
   "execution_count": 151,
   "metadata": {},
   "outputs": [
    {
     "data": {
      "text/plain": [
       "0                    Bus Stop 54602 (250-256,258)\n",
       "1                Bus Stop 54601 (250/1/2/3/5/6/8)\n",
       "2    Bus Stop 54600 (250,251,252,253,255,256,258)\n",
       "3                                  Bus Stop 54780\n",
       "4                                  Bus Stop 54612\n",
       "5                                  Bus Stop 54613\n",
       "6                Winstanley Business Advisors Ltd\n",
       "Name: name, dtype: object"
      ]
     },
     "execution_count": 151,
     "metadata": {},
     "output_type": "execute_result"
    }
   ],
   "source": [
    "dataframe.name"
   ]
  },
  {
   "cell_type": "markdown",
   "metadata": {},
   "source": [
    "We can see that there are 7 bus stops around the first restaurant in a radius of 500 meters. \n",
    "As we still want to discover the nearby venues around the restaurant, we are going to write a function to help us get all those info."
   ]
  },
  {
   "cell_type": "code",
   "execution_count": 155,
   "metadata": {},
   "outputs": [],
   "source": [
    "def venues_nearby(lat,lon,category):\n",
    "    VERSION = '20180604'\n",
    "    CLIENT_ID = 'FLSHE5WOWUI5JJPQBI1IMJBGK1KL0JX4CXV4DG2ZRQVPICQE'\n",
    "    CLIENT_SECRET = 'PKNCMWET2QX4MY2LIZWBJVNZAB4RRD3T2QBQIJAAWUCPS35C'\n",
    "    latitude = lat\n",
    "    longitude = lon\n",
    "    category = category\n",
    "    category_id=fs_categories[category]\n",
    "    radius = 500\n",
    "    result = requests.get(url = url).json()\n",
    "    venues = result['response']['venues']\n",
    "    dataframe = json_normalize(venues)\n",
    "    df= dataframe['name']\n",
    "    return df"
   ]
  },
  {
   "cell_type": "markdown",
   "metadata": {},
   "source": [
    "Let's test it out. We want to find if there are any waterfront around first restaurant. "
   ]
  },
  {
   "cell_type": "code",
   "execution_count": 144,
   "metadata": {},
   "outputs": [
    {
     "data": {
      "text/html": [
       "<div>\n",
       "<style scoped>\n",
       "    .dataframe tbody tr th:only-of-type {\n",
       "        vertical-align: middle;\n",
       "    }\n",
       "\n",
       "    .dataframe tbody tr th {\n",
       "        vertical-align: top;\n",
       "    }\n",
       "\n",
       "    .dataframe thead th {\n",
       "        text-align: right;\n",
       "    }\n",
       "</style>\n",
       "<table border=\"1\" class=\"dataframe\">\n",
       "  <thead>\n",
       "    <tr style=\"text-align: right;\">\n",
       "      <th></th>\n",
       "      <th>Name</th>\n",
       "      <th>lat</th>\n",
       "      <th>lon</th>\n",
       "      <th>rating</th>\n",
       "    </tr>\n",
       "  </thead>\n",
       "  <tbody>\n",
       "    <tr>\n",
       "      <th>1</th>\n",
       "      <td>Ancora Ambleside</td>\n",
       "      <td>49.327349</td>\n",
       "      <td>-123.154458</td>\n",
       "      <td>5.0</td>\n",
       "    </tr>\n",
       "    <tr>\n",
       "      <th>2</th>\n",
       "      <td>Boulevard Kitchen &amp; Oyster Bar</td>\n",
       "      <td>49.282718</td>\n",
       "      <td>-123.123883</td>\n",
       "      <td>4.0</td>\n",
       "    </tr>\n",
       "    <tr>\n",
       "      <th>3</th>\n",
       "      <td>Oddfish Restaurant</td>\n",
       "      <td>49.270894</td>\n",
       "      <td>-123.147585</td>\n",
       "      <td>4.0</td>\n",
       "    </tr>\n",
       "  </tbody>\n",
       "</table>\n",
       "</div>"
      ],
      "text/plain": [
       "                             Name        lat         lon  rating\n",
       "1                Ancora Ambleside  49.327349 -123.154458     5.0\n",
       "2  Boulevard Kitchen & Oyster Bar  49.282718 -123.123883     4.0\n",
       "3              Oddfish Restaurant  49.270894 -123.147585     4.0"
      ]
     },
     "execution_count": 144,
     "metadata": {},
     "output_type": "execute_result"
    }
   ],
   "source": [
    "df_choice"
   ]
  },
  {
   "cell_type": "code",
   "execution_count": 148,
   "metadata": {},
   "outputs": [
    {
     "data": {
      "text/plain": [
       "(49.327349, -123.154458)"
      ]
     },
     "execution_count": 148,
     "metadata": {},
     "output_type": "execute_result"
    }
   ],
   "source": [
    "lat = df_choice.lat[1]\n",
    "lon = df_choice.lon[1]\n",
    "lat,lon"
   ]
  },
  {
   "cell_type": "code",
   "execution_count": 165,
   "metadata": {},
   "outputs": [
    {
     "data": {
      "text/plain": [
       "0                    Bus Stop 54602 (250-256,258)\n",
       "1                Bus Stop 54601 (250/1/2/3/5/6/8)\n",
       "2    Bus Stop 54600 (250,251,252,253,255,256,258)\n",
       "3                                  Bus Stop 54780\n",
       "4                                  Bus Stop 54612\n",
       "5                                  Bus Stop 54613\n",
       "6                Winstanley Business Advisors Ltd\n",
       "Name: name, dtype: object"
      ]
     },
     "execution_count": 165,
     "metadata": {},
     "output_type": "execute_result"
    }
   ],
   "source": [
    "venues_nearby(lat,lon,'Waterfront')"
   ]
  },
  {
   "cell_type": "code",
   "execution_count": null,
   "metadata": {},
   "outputs": [],
   "source": []
  }
 ],
 "metadata": {
  "kernelspec": {
   "display_name": "Python 3",
   "language": "python",
   "name": "python3"
  },
  "language_info": {
   "codemirror_mode": {
    "name": "ipython",
    "version": 3
   },
   "file_extension": ".py",
   "mimetype": "text/x-python",
   "name": "python",
   "nbconvert_exporter": "python",
   "pygments_lexer": "ipython3",
   "version": "3.7.2"
  }
 },
 "nbformat": 4,
 "nbformat_minor": 2
}
