{
 "cells": [
  {
   "cell_type": "markdown",
   "metadata": {},
   "source": [
    "# Capstone Project - The Battle of Neighborhoods"
   ]
  },
  {
   "cell_type": "markdown",
   "metadata": {},
   "source": [
    "## Introduction/Business Problem"
   ]
  },
  {
   "cell_type": "markdown",
   "metadata": {},
   "source": [
    "Introduction where you discuss the business problem and who would be interested in this project."
   ]
  },
  {
   "cell_type": "markdown",
   "metadata": {},
   "source": [
    "#### \"Would you recommend a location in Vancouver to open a new Seafood restaurant ?\"  \n"
   ]
  },
  {
   "cell_type": "markdown",
   "metadata": {},
   "source": [
    "Vancouver is closed to the sea therefore it's quite famous for its seafood. My boss, an American investor just moved here and decided to buy one Seafood restaurant and make it the best seafood restaurants in Vancouver.\n",
    "\n",
    "He has tried top 3 seafood restaurants elected by OpenTable and rated them. He asked me to investigate the top 4-6 restaurants and sent him a report to help him make decisions. \n",
    "\n",
    "He told me his ideal restaurant should \n",
    "- be near public transport facilities\n",
    "- be closed to waterfront\n"
   ]
  },
  {
   "cell_type": "markdown",
   "metadata": {},
   "source": [
    "## Data"
   ]
  },
  {
   "cell_type": "markdown",
   "metadata": {},
   "source": [
    "Data where you describe the data that will be used to solve the problem and the source of the data."
   ]
  },
  {
   "cell_type": "markdown",
   "metadata": {},
   "source": [
    "According to the question, I need to find following data to resolve the problem."
   ]
  },
  {
   "cell_type": "markdown",
   "metadata": {},
   "source": [
    "#### 1. Stakeholder's choice "
   ]
  },
  {
   "cell_type": "code",
   "execution_count": 1,
   "metadata": {},
   "outputs": [],
   "source": [
    "import pandas as pd\n",
    "df_choice = pd.read_csv('restaurant.csv',index_col=[0])"
   ]
  },
  {
   "cell_type": "code",
   "execution_count": 2,
   "metadata": {},
   "outputs": [
    {
     "data": {
      "text/html": [
       "<div>\n",
       "<style scoped>\n",
       "    .dataframe tbody tr th:only-of-type {\n",
       "        vertical-align: middle;\n",
       "    }\n",
       "\n",
       "    .dataframe tbody tr th {\n",
       "        vertical-align: top;\n",
       "    }\n",
       "\n",
       "    .dataframe thead th {\n",
       "        text-align: right;\n",
       "    }\n",
       "</style>\n",
       "<table border=\"1\" class=\"dataframe\">\n",
       "  <thead>\n",
       "    <tr style=\"text-align: right;\">\n",
       "      <th></th>\n",
       "      <th>Name</th>\n",
       "      <th>lat</th>\n",
       "      <th>lon</th>\n",
       "      <th>rating</th>\n",
       "    </tr>\n",
       "  </thead>\n",
       "  <tbody>\n",
       "    <tr>\n",
       "      <th>1</th>\n",
       "      <td>Ancora Ambleside</td>\n",
       "      <td>49.327349</td>\n",
       "      <td>-123.154458</td>\n",
       "      <td>5.0</td>\n",
       "    </tr>\n",
       "    <tr>\n",
       "      <th>2</th>\n",
       "      <td>Boulevard Kitchen &amp; Oyster Bar</td>\n",
       "      <td>49.282718</td>\n",
       "      <td>-123.123883</td>\n",
       "      <td>4.0</td>\n",
       "    </tr>\n",
       "    <tr>\n",
       "      <th>3</th>\n",
       "      <td>Oddfish Restaurant</td>\n",
       "      <td>49.270894</td>\n",
       "      <td>-123.147585</td>\n",
       "      <td>4.0</td>\n",
       "    </tr>\n",
       "  </tbody>\n",
       "</table>\n",
       "</div>"
      ],
      "text/plain": [
       "                             Name        lat         lon  rating\n",
       "1                Ancora Ambleside  49.327349 -123.154458     5.0\n",
       "2  Boulevard Kitchen & Oyster Bar  49.282718 -123.123883     4.0\n",
       "3              Oddfish Restaurant  49.270894 -123.147585     4.0"
      ]
     },
     "execution_count": 2,
     "metadata": {},
     "output_type": "execute_result"
    }
   ],
   "source": [
    "df_choice"
   ]
  },
  {
   "cell_type": "markdown",
   "metadata": {},
   "source": [
    "#### 2.  Four possible  places  "
   ]
  },
  {
   "cell_type": "markdown",
   "metadata": {},
   "source": [
    "I randomly chose four places from google map and get the coordinates down into the csv file."
   ]
  },
  {
   "cell_type": "code",
   "execution_count": 3,
   "metadata": {},
   "outputs": [
    {
     "data": {
      "text/html": [
       "<div>\n",
       "<style scoped>\n",
       "    .dataframe tbody tr th:only-of-type {\n",
       "        vertical-align: middle;\n",
       "    }\n",
       "\n",
       "    .dataframe tbody tr th {\n",
       "        vertical-align: top;\n",
       "    }\n",
       "\n",
       "    .dataframe thead th {\n",
       "        text-align: right;\n",
       "    }\n",
       "</style>\n",
       "<table border=\"1\" class=\"dataframe\">\n",
       "  <thead>\n",
       "    <tr style=\"text-align: right;\">\n",
       "      <th></th>\n",
       "      <th>Address</th>\n",
       "      <th>lat</th>\n",
       "      <th>lon</th>\n",
       "    </tr>\n",
       "  </thead>\n",
       "  <tbody>\n",
       "    <tr>\n",
       "      <th>1</th>\n",
       "      <td>Ferris' Upstairs Seafood and Oyster Bar</td>\n",
       "      <td>48.427011</td>\n",
       "      <td>-123.369044</td>\n",
       "    </tr>\n",
       "    <tr>\n",
       "      <th>2</th>\n",
       "      <td>Joe Fortes Seafood &amp; Chop House</td>\n",
       "      <td>49.284791</td>\n",
       "      <td>-123.124556</td>\n",
       "    </tr>\n",
       "    <tr>\n",
       "      <th>3</th>\n",
       "      <td>Blue Crab Seafood House</td>\n",
       "      <td>48.421903</td>\n",
       "      <td>-123.379851</td>\n",
       "    </tr>\n",
       "  </tbody>\n",
       "</table>\n",
       "</div>"
      ],
      "text/plain": [
       "                                   Address        lat         lon\n",
       "1  Ferris' Upstairs Seafood and Oyster Bar  48.427011 -123.369044\n",
       "2          Joe Fortes Seafood & Chop House  49.284791 -123.124556\n",
       "3                 Blue Crab Seafood House   48.421903 -123.379851"
      ]
     },
     "execution_count": 3,
     "metadata": {},
     "output_type": "execute_result"
    }
   ],
   "source": [
    "df_cand = pd.read_csv('candidates.csv',index_col=[0])\n",
    "df_cand"
   ]
  },
  {
   "cell_type": "markdown",
   "metadata": {},
   "source": [
    "#### 3. Nearby venues around places"
   ]
  },
  {
   "cell_type": "markdown",
   "metadata": {},
   "source": [
    "It is recommended by the stakeholder that the restaurant should be surrounded by some public transport facilities. Therefore, we are going to discover the following three categories. We will use foursquare api to get those info."
   ]
  },
  {
   "cell_type": "code",
   "execution_count": 3,
   "metadata": {},
   "outputs": [],
   "source": [
    "fs_categories = {\n",
    "    'Nightlife Spot': '4d4b7105d754a06376d81259',\n",
    "    'bus stop': '52f2ab2ebcbc57f1066b8b4f',\n",
    "    'Shopping Mall':'4bf58dd8d48988d1fd941735'\n",
    "}"
   ]
  },
  {
   "cell_type": "markdown",
   "metadata": {},
   "source": [
    "We will use the first stakeholder's choice to testify the function of api."
   ]
  },
  {
   "cell_type": "code",
   "execution_count": 10,
   "metadata": {},
   "outputs": [],
   "source": [
    "VERSION = '20180604'\n",
    "CLIENT_ID = 'FLSHE5WOWUI5JJPQBI1IMJBGK1KL0JX4CXV4DG2ZRQVPICQE'\n",
    "CLIENT_SECRET = 'PKNCMWET2QX4MY2LIZWBJVNZAB4RRD3T2QBQIJAAWUCPS35C'\n",
    "latitude = 49.327349\n",
    "longitude = -123.154458\n",
    "category = 'Nightlife Spot'\n",
    "radius = 2000\n",
    "category_id='4d4b7105d754a06376d81259'"
   ]
  },
  {
   "cell_type": "code",
   "execution_count": 11,
   "metadata": {},
   "outputs": [
    {
     "data": {
      "text/plain": [
       "'https://api.foursquare.com/v2/venues/search?client_id=FLSHE5WOWUI5JJPQBI1IMJBGK1KL0JX4CXV4DG2ZRQVPICQE&client_secret=PKNCMWET2QX4MY2LIZWBJVNZAB4RRD3T2QBQIJAAWUCPS35C&ll=49.327349,-123.154458&v=20180604&query=Nightlife Spot&category_id=4d4b7105d754a06376d81259&radius=2000'"
      ]
     },
     "execution_count": 11,
     "metadata": {},
     "output_type": "execute_result"
    }
   ],
   "source": [
    "url = 'https://api.foursquare.com/v2/venues/search?client_id={}&client_secret={}&ll={},{}&v={}&query={}&category_id={}&radius={}'.format(CLIENT_ID, CLIENT_SECRET, latitude, longitude,VERSION,category,category_id,radius)\n",
    "url"
   ]
  },
  {
   "cell_type": "code",
   "execution_count": 12,
   "metadata": {},
   "outputs": [
    {
     "data": {
      "text/plain": [
       "{'meta': {'code': 200, 'requestId': '5e04749478a484001b6fb3cd'},\n",
       " 'response': {'venues': [{'id': '4abe72c2f964a520ab8d20e3',\n",
       "    'name': 'White Spot',\n",
       "    'location': {'address': '797 Main St',\n",
       "     'lat': 49.32636108016595,\n",
       "     'lng': -123.13922882080078,\n",
       "     'labeledLatLngs': [{'label': 'display',\n",
       "       'lat': 49.32636108016595,\n",
       "       'lng': -123.13922882080078}],\n",
       "     'distance': 1110,\n",
       "     'postalCode': 'V7T 0A5',\n",
       "     'cc': 'CA',\n",
       "     'city': 'West Vancouver',\n",
       "     'state': 'BC',\n",
       "     'country': 'Canada',\n",
       "     'formattedAddress': ['797 Main St',\n",
       "      'West Vancouver BC V7T 0A5',\n",
       "      'Canada']},\n",
       "    'categories': [{'id': '4bf58dd8d48988d143941735',\n",
       "      'name': 'Breakfast Spot',\n",
       "      'pluralName': 'Breakfast Spots',\n",
       "      'shortName': 'Breakfast',\n",
       "      'icon': {'prefix': 'https://ss3.4sqi.net/img/categories_v2/food/breakfast_',\n",
       "       'suffix': '.png'},\n",
       "      'primary': True}],\n",
       "    'referralId': 'v-1577350317',\n",
       "    'hasPerk': False},\n",
       "   {'id': '4f5407cce4b063296ec8ded5',\n",
       "    'name': 'Wright-Walger Spot.',\n",
       "    'location': {'address': '440 Gordon Ave',\n",
       "     'lat': 49.331499,\n",
       "     'lng': -123.127669,\n",
       "     'labeledLatLngs': [{'label': 'display',\n",
       "       'lat': 49.331499,\n",
       "       'lng': -123.127669}],\n",
       "     'distance': 1997,\n",
       "     'cc': 'CA',\n",
       "     'city': 'West Vancouver',\n",
       "     'state': 'BC',\n",
       "     'country': 'Canada',\n",
       "     'formattedAddress': ['440 Gordon Ave', 'West Vancouver BC', 'Canada']},\n",
       "    'categories': [{'id': '4d954b06a243a5684965b473',\n",
       "      'name': 'Residential Building (Apartment / Condo)',\n",
       "      'pluralName': 'Residential Buildings (Apartments / Condos)',\n",
       "      'shortName': 'Residential',\n",
       "      'icon': {'prefix': 'https://ss3.4sqi.net/img/categories_v2/building/apartment_',\n",
       "       'suffix': '.png'},\n",
       "      'primary': True}],\n",
       "    'referralId': 'v-1577350317',\n",
       "    'hasPerk': False}]}}"
      ]
     },
     "execution_count": 12,
     "metadata": {},
     "output_type": "execute_result"
    }
   ],
   "source": [
    "import requests\n",
    "result = requests.get(url = url).json()\n",
    "result"
   ]
  },
  {
   "cell_type": "code",
   "execution_count": 7,
   "metadata": {},
   "outputs": [],
   "source": [
    "venues = result['response']['venues']"
   ]
  },
  {
   "cell_type": "code",
   "execution_count": 8,
   "metadata": {
    "scrolled": true
   },
   "outputs": [
    {
     "data": {
      "text/html": [
       "<div>\n",
       "<style scoped>\n",
       "    .dataframe tbody tr th:only-of-type {\n",
       "        vertical-align: middle;\n",
       "    }\n",
       "\n",
       "    .dataframe tbody tr th {\n",
       "        vertical-align: top;\n",
       "    }\n",
       "\n",
       "    .dataframe thead th {\n",
       "        text-align: right;\n",
       "    }\n",
       "</style>\n",
       "<table border=\"1\" class=\"dataframe\">\n",
       "  <thead>\n",
       "    <tr style=\"text-align: right;\">\n",
       "      <th></th>\n",
       "      <th>categories</th>\n",
       "      <th>hasPerk</th>\n",
       "      <th>id</th>\n",
       "      <th>location.address</th>\n",
       "      <th>location.cc</th>\n",
       "      <th>location.city</th>\n",
       "      <th>location.country</th>\n",
       "      <th>location.distance</th>\n",
       "      <th>location.formattedAddress</th>\n",
       "      <th>location.labeledLatLngs</th>\n",
       "      <th>location.lat</th>\n",
       "      <th>location.lng</th>\n",
       "      <th>location.postalCode</th>\n",
       "      <th>location.state</th>\n",
       "      <th>name</th>\n",
       "      <th>referralId</th>\n",
       "    </tr>\n",
       "  </thead>\n",
       "  <tbody>\n",
       "    <tr>\n",
       "      <th>0</th>\n",
       "      <td>[{'id': '4bf58dd8d48988d143941735', 'name': 'B...</td>\n",
       "      <td>False</td>\n",
       "      <td>4abe72c2f964a520ab8d20e3</td>\n",
       "      <td>797 Main St</td>\n",
       "      <td>CA</td>\n",
       "      <td>West Vancouver</td>\n",
       "      <td>Canada</td>\n",
       "      <td>1110</td>\n",
       "      <td>[797 Main St, West Vancouver BC V7T 0A5, Canada]</td>\n",
       "      <td>[{'label': 'display', 'lat': 49.32636108016595...</td>\n",
       "      <td>49.326361</td>\n",
       "      <td>-123.139229</td>\n",
       "      <td>V7T 0A5</td>\n",
       "      <td>BC</td>\n",
       "      <td>White Spot</td>\n",
       "      <td>v-1577346481</td>\n",
       "    </tr>\n",
       "    <tr>\n",
       "      <th>1</th>\n",
       "      <td>[{'id': '4d954b06a243a5684965b473', 'name': 'R...</td>\n",
       "      <td>False</td>\n",
       "      <td>4f5407cce4b063296ec8ded5</td>\n",
       "      <td>440 Gordon Ave</td>\n",
       "      <td>CA</td>\n",
       "      <td>West Vancouver</td>\n",
       "      <td>Canada</td>\n",
       "      <td>1997</td>\n",
       "      <td>[440 Gordon Ave, West Vancouver BC, Canada]</td>\n",
       "      <td>[{'label': 'display', 'lat': 49.331499, 'lng':...</td>\n",
       "      <td>49.331499</td>\n",
       "      <td>-123.127669</td>\n",
       "      <td>NaN</td>\n",
       "      <td>BC</td>\n",
       "      <td>Wright-Walger Spot.</td>\n",
       "      <td>v-1577346481</td>\n",
       "    </tr>\n",
       "  </tbody>\n",
       "</table>\n",
       "</div>"
      ],
      "text/plain": [
       "                                          categories  hasPerk  \\\n",
       "0  [{'id': '4bf58dd8d48988d143941735', 'name': 'B...    False   \n",
       "1  [{'id': '4d954b06a243a5684965b473', 'name': 'R...    False   \n",
       "\n",
       "                         id location.address location.cc   location.city  \\\n",
       "0  4abe72c2f964a520ab8d20e3      797 Main St          CA  West Vancouver   \n",
       "1  4f5407cce4b063296ec8ded5   440 Gordon Ave          CA  West Vancouver   \n",
       "\n",
       "  location.country  location.distance  \\\n",
       "0           Canada               1110   \n",
       "1           Canada               1997   \n",
       "\n",
       "                          location.formattedAddress  \\\n",
       "0  [797 Main St, West Vancouver BC V7T 0A5, Canada]   \n",
       "1       [440 Gordon Ave, West Vancouver BC, Canada]   \n",
       "\n",
       "                             location.labeledLatLngs  location.lat  \\\n",
       "0  [{'label': 'display', 'lat': 49.32636108016595...     49.326361   \n",
       "1  [{'label': 'display', 'lat': 49.331499, 'lng':...     49.331499   \n",
       "\n",
       "   location.lng location.postalCode location.state                 name  \\\n",
       "0   -123.139229             V7T 0A5             BC           White Spot   \n",
       "1   -123.127669                 NaN             BC  Wright-Walger Spot.   \n",
       "\n",
       "     referralId  \n",
       "0  v-1577346481  \n",
       "1  v-1577346481  "
      ]
     },
     "execution_count": 8,
     "metadata": {},
     "output_type": "execute_result"
    }
   ],
   "source": [
    "from pandas.io.json import json_normalize\n",
    "dataframe = json_normalize(venues)\n",
    "dataframe.head()"
   ]
  },
  {
   "cell_type": "code",
   "execution_count": 9,
   "metadata": {},
   "outputs": [
    {
     "data": {
      "text/plain": [
       "0             White Spot\n",
       "1    Wright-Walger Spot.\n",
       "Name: name, dtype: object"
      ]
     },
     "execution_count": 9,
     "metadata": {},
     "output_type": "execute_result"
    }
   ],
   "source": [
    "dataframe.name"
   ]
  },
  {
   "cell_type": "markdown",
   "metadata": {},
   "source": [
    "We can see that there are 7 bus stops around the first restaurant in a radius of 500 meters. \n",
    "As we still want to discover the nearby venues around the restaurant, we are going to write a function to help us get all those info."
   ]
  },
  {
   "cell_type": "code",
   "execution_count": 155,
   "metadata": {},
   "outputs": [],
   "source": [
    "def venues_nearby(lat,lon,category):\n",
    "    VERSION = '20180604'\n",
    "    CLIENT_ID = 'FLSHE5WOWUI5JJPQBI1IMJBGK1KL0JX4CXV4DG2ZRQVPICQE'\n",
    "    CLIENT_SECRET = 'PKNCMWET2QX4MY2LIZWBJVNZAB4RRD3T2QBQIJAAWUCPS35C'\n",
    "    latitude = lat\n",
    "    longitude = lon\n",
    "    category = category\n",
    "    category_id=fs_categories[category]\n",
    "    radius = 500\n",
    "    result = requests.get(url = url).json()\n",
    "    venues = result['response']['venues']\n",
    "    dataframe = json_normalize(venues)\n",
    "    df= dataframe['name']\n",
    "    return df"
   ]
  },
  {
   "cell_type": "markdown",
   "metadata": {},
   "source": [
    "Let's test it out. We want to find if there are any waterfront around first restaurant. "
   ]
  },
  {
   "cell_type": "code",
   "execution_count": 144,
   "metadata": {},
   "outputs": [
    {
     "data": {
      "text/html": [
       "<div>\n",
       "<style scoped>\n",
       "    .dataframe tbody tr th:only-of-type {\n",
       "        vertical-align: middle;\n",
       "    }\n",
       "\n",
       "    .dataframe tbody tr th {\n",
       "        vertical-align: top;\n",
       "    }\n",
       "\n",
       "    .dataframe thead th {\n",
       "        text-align: right;\n",
       "    }\n",
       "</style>\n",
       "<table border=\"1\" class=\"dataframe\">\n",
       "  <thead>\n",
       "    <tr style=\"text-align: right;\">\n",
       "      <th></th>\n",
       "      <th>Name</th>\n",
       "      <th>lat</th>\n",
       "      <th>lon</th>\n",
       "      <th>rating</th>\n",
       "    </tr>\n",
       "  </thead>\n",
       "  <tbody>\n",
       "    <tr>\n",
       "      <th>1</th>\n",
       "      <td>Ancora Ambleside</td>\n",
       "      <td>49.327349</td>\n",
       "      <td>-123.154458</td>\n",
       "      <td>5.0</td>\n",
       "    </tr>\n",
       "    <tr>\n",
       "      <th>2</th>\n",
       "      <td>Boulevard Kitchen &amp; Oyster Bar</td>\n",
       "      <td>49.282718</td>\n",
       "      <td>-123.123883</td>\n",
       "      <td>4.0</td>\n",
       "    </tr>\n",
       "    <tr>\n",
       "      <th>3</th>\n",
       "      <td>Oddfish Restaurant</td>\n",
       "      <td>49.270894</td>\n",
       "      <td>-123.147585</td>\n",
       "      <td>4.0</td>\n",
       "    </tr>\n",
       "  </tbody>\n",
       "</table>\n",
       "</div>"
      ],
      "text/plain": [
       "                             Name        lat         lon  rating\n",
       "1                Ancora Ambleside  49.327349 -123.154458     5.0\n",
       "2  Boulevard Kitchen & Oyster Bar  49.282718 -123.123883     4.0\n",
       "3              Oddfish Restaurant  49.270894 -123.147585     4.0"
      ]
     },
     "execution_count": 144,
     "metadata": {},
     "output_type": "execute_result"
    }
   ],
   "source": [
    "df_choice"
   ]
  },
  {
   "cell_type": "code",
   "execution_count": 148,
   "metadata": {},
   "outputs": [
    {
     "data": {
      "text/plain": [
       "(49.327349, -123.154458)"
      ]
     },
     "execution_count": 148,
     "metadata": {},
     "output_type": "execute_result"
    }
   ],
   "source": [
    "lat = df_choice.lat[1]\n",
    "lon = df_choice.lon[1]\n",
    "lat,lon"
   ]
  },
  {
   "cell_type": "code",
   "execution_count": 165,
   "metadata": {},
   "outputs": [
    {
     "data": {
      "text/plain": [
       "0                    Bus Stop 54602 (250-256,258)\n",
       "1                Bus Stop 54601 (250/1/2/3/5/6/8)\n",
       "2    Bus Stop 54600 (250,251,252,253,255,256,258)\n",
       "3                                  Bus Stop 54780\n",
       "4                                  Bus Stop 54612\n",
       "5                                  Bus Stop 54613\n",
       "6                Winstanley Business Advisors Ltd\n",
       "Name: name, dtype: object"
      ]
     },
     "execution_count": 165,
     "metadata": {},
     "output_type": "execute_result"
    }
   ],
   "source": [
    "venues_nearby(lat,lon,'Waterfront')"
   ]
  },
  {
   "cell_type": "code",
   "execution_count": null,
   "metadata": {},
   "outputs": [],
   "source": []
  }
 ],
 "metadata": {
  "kernelspec": {
   "display_name": "Python 3",
   "language": "python",
   "name": "python3"
  },
  "language_info": {
   "codemirror_mode": {
    "name": "ipython",
    "version": 3
   },
   "file_extension": ".py",
   "mimetype": "text/x-python",
   "name": "python",
   "nbconvert_exporter": "python",
   "pygments_lexer": "ipython3",
   "version": "3.7.2"
  }
 },
 "nbformat": 4,
 "nbformat_minor": 2
}
