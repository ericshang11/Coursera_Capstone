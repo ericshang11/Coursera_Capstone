{
 "cells": [
  {
   "cell_type": "markdown",
   "metadata": {},
   "source": [
    "# Capstone Project - The Battle of Neighborhoods"
   ]
  },
  {
   "cell_type": "markdown",
   "metadata": {},
   "source": [
    "## Introduction/Business Problem"
   ]
  },
  {
   "cell_type": "markdown",
   "metadata": {},
   "source": [
    "Introduction where you discuss the business problem and who would be interested in this project."
   ]
  },
  {
   "cell_type": "markdown",
   "metadata": {},
   "source": [
    "#### \"Help investor to find the most suitable restaurant to invest?\"  \n"
   ]
  },
  {
   "cell_type": "markdown",
   "metadata": {},
   "source": [
    "Vancouver is right closed to the sea therefore it's quite famous for its seafood. My boss, an American investor just moved here and decided to __become a shareholder of one Seafood restaurant__ and make it the best seafood restaurant in Vancouver.\n",
    "\n",
    "He has tried top 3 seafood restaurants elected by OpenTable and rated them. He asked me to investigate the top 4-6 restaurants and sent him a report to help him make decisions. \n",
    "\n",
    "He told me his ideal restaurant should \n",
    "- have some nightlife spot nearby \n",
    "- be closed to some bus stop or metro stations\n",
    "- have some shopping malls around"
   ]
  },
  {
   "cell_type": "markdown",
   "metadata": {},
   "source": [
    "## Data"
   ]
  },
  {
   "cell_type": "markdown",
   "metadata": {},
   "source": [
    "Data where you describe the data that will be used to solve the problem and the source of the data."
   ]
  },
  {
   "cell_type": "markdown",
   "metadata": {},
   "source": [
    "According to the question, I need to find following data to resolve the problem."
   ]
  },
  {
   "cell_type": "markdown",
   "metadata": {},
   "source": [
    "#### 1. Stakeholder's choice "
   ]
  },
  {
   "cell_type": "code",
   "execution_count": 1,
   "metadata": {},
   "outputs": [],
   "source": [
    "import pandas as pd\n",
    "df_choice = pd.read_csv('restaurant.csv',index_col=[0])"
   ]
  },
  {
   "cell_type": "code",
   "execution_count": 2,
   "metadata": {},
   "outputs": [
    {
     "data": {
      "text/html": [
       "<div>\n",
       "<style scoped>\n",
       "    .dataframe tbody tr th:only-of-type {\n",
       "        vertical-align: middle;\n",
       "    }\n",
       "\n",
       "    .dataframe tbody tr th {\n",
       "        vertical-align: top;\n",
       "    }\n",
       "\n",
       "    .dataframe thead th {\n",
       "        text-align: right;\n",
       "    }\n",
       "</style>\n",
       "<table border=\"1\" class=\"dataframe\">\n",
       "  <thead>\n",
       "    <tr style=\"text-align: right;\">\n",
       "      <th></th>\n",
       "      <th>Name</th>\n",
       "      <th>lat</th>\n",
       "      <th>lon</th>\n",
       "      <th>rating</th>\n",
       "    </tr>\n",
       "  </thead>\n",
       "  <tbody>\n",
       "    <tr>\n",
       "      <th>1</th>\n",
       "      <td>Ancora Ambleside</td>\n",
       "      <td>49.327349</td>\n",
       "      <td>-123.154458</td>\n",
       "      <td>3.0</td>\n",
       "    </tr>\n",
       "    <tr>\n",
       "      <th>2</th>\n",
       "      <td>Boulevard Kitchen &amp; Oyster Bar</td>\n",
       "      <td>49.282718</td>\n",
       "      <td>-123.123883</td>\n",
       "      <td>5.0</td>\n",
       "    </tr>\n",
       "    <tr>\n",
       "      <th>3</th>\n",
       "      <td>Oddfish Restaurant</td>\n",
       "      <td>49.270894</td>\n",
       "      <td>-123.147585</td>\n",
       "      <td>4.0</td>\n",
       "    </tr>\n",
       "  </tbody>\n",
       "</table>\n",
       "</div>"
      ],
      "text/plain": [
       "                             Name        lat         lon  rating\n",
       "1                Ancora Ambleside  49.327349 -123.154458     3.0\n",
       "2  Boulevard Kitchen & Oyster Bar  49.282718 -123.123883     5.0\n",
       "3              Oddfish Restaurant  49.270894 -123.147585     4.0"
      ]
     },
     "execution_count": 2,
     "metadata": {},
     "output_type": "execute_result"
    }
   ],
   "source": [
    "df_choice"
   ]
  },
  {
   "cell_type": "markdown",
   "metadata": {},
   "source": [
    "Stakeholder's choice will be used as the profile. I got this data from opentable dinners. The ratings were given by the stakeholder."
   ]
  },
  {
   "cell_type": "markdown",
   "metadata": {},
   "source": [
    "#### 2.  Three potential target  restaurants  "
   ]
  },
  {
   "cell_type": "markdown",
   "metadata": {},
   "source": [
    "These three restaurants are top 4 - 6 seafood restaurants listed by Opentable. We are going to find the most suitable one out of three target."
   ]
  },
  {
   "cell_type": "code",
   "execution_count": 3,
   "metadata": {},
   "outputs": [
    {
     "data": {
      "text/html": [
       "<div>\n",
       "<style scoped>\n",
       "    .dataframe tbody tr th:only-of-type {\n",
       "        vertical-align: middle;\n",
       "    }\n",
       "\n",
       "    .dataframe tbody tr th {\n",
       "        vertical-align: top;\n",
       "    }\n",
       "\n",
       "    .dataframe thead th {\n",
       "        text-align: right;\n",
       "    }\n",
       "</style>\n",
       "<table border=\"1\" class=\"dataframe\">\n",
       "  <thead>\n",
       "    <tr style=\"text-align: right;\">\n",
       "      <th></th>\n",
       "      <th>Address</th>\n",
       "      <th>lat</th>\n",
       "      <th>lon</th>\n",
       "    </tr>\n",
       "  </thead>\n",
       "  <tbody>\n",
       "    <tr>\n",
       "      <th>1</th>\n",
       "      <td>Ferris' Upstairs Seafood and Oyster Bar</td>\n",
       "      <td>48.427011</td>\n",
       "      <td>-123.369044</td>\n",
       "    </tr>\n",
       "    <tr>\n",
       "      <th>2</th>\n",
       "      <td>Joe Fortes Seafood &amp; Chop House</td>\n",
       "      <td>49.284791</td>\n",
       "      <td>-123.124556</td>\n",
       "    </tr>\n",
       "    <tr>\n",
       "      <th>3</th>\n",
       "      <td>Blue Crab Seafood House</td>\n",
       "      <td>48.421903</td>\n",
       "      <td>-123.379851</td>\n",
       "    </tr>\n",
       "  </tbody>\n",
       "</table>\n",
       "</div>"
      ],
      "text/plain": [
       "                                   Address        lat         lon\n",
       "1  Ferris' Upstairs Seafood and Oyster Bar  48.427011 -123.369044\n",
       "2          Joe Fortes Seafood & Chop House  49.284791 -123.124556\n",
       "3                 Blue Crab Seafood House   48.421903 -123.379851"
      ]
     },
     "execution_count": 3,
     "metadata": {},
     "output_type": "execute_result"
    }
   ],
   "source": [
    "df_cand = pd.read_csv('candidates.csv',index_col=[0])\n",
    "df_cand"
   ]
  },
  {
   "cell_type": "markdown",
   "metadata": {},
   "source": [
    "#### 3. Nearby venues around places"
   ]
  },
  {
   "cell_type": "markdown",
   "metadata": {},
   "source": [
    "It is recommended by the stakeholder that the restaurant should be surrounded by some public transport facilities so that diners won't have trouble in visiting the restaurant. If there are some nightlife spots or shopping malls around the corner, diners can find somewhere to go after the excellent dinner. \n",
    "\n",
    "Therefore, we are going to use foursquare api to discover the following four categories. We want to see if there are any venues around those restaurant in a radius of 500m."
   ]
  },
  {
   "cell_type": "code",
   "execution_count": 4,
   "metadata": {},
   "outputs": [],
   "source": [
    "fs_categories = {\n",
    "    'Nightlife Spot': '4d4b7105d754a06376d81259',\n",
    "    'bus stop':'52f2ab2ebcbc57f1066b8b4f',\n",
    "    'Metro Station': '4bf58dd8d48988d1fd931735',\n",
    "    'Shopping Mall':'4bf58dd8d48988d1fd941735'\n",
    "}"
   ]
  },
  {
   "cell_type": "markdown",
   "metadata": {},
   "source": [
    "We will use the second stakeholder's choice to testify the function of api."
   ]
  },
  {
   "cell_type": "code",
   "execution_count": 5,
   "metadata": {},
   "outputs": [],
   "source": [
    "VERSION = '20180604'\n",
    "CLIENT_ID = 'FLSHE5WOWUI5JJPQBI1IMJBGK1KL0JX4CXV4DG2ZRQVPICQE'\n",
    "CLIENT_SECRET = 'PKNCMWET2QX4MY2LIZWBJVNZAB4RRD3T2QBQIJAAWUCPS35C'\n",
    "latitude = 49.282718\n",
    "longitude = -123.123883\n",
    "category = 'Nightlife Spot'\n",
    "radius = 500\n",
    "category_id='4d4b7105d754a06376d81259'"
   ]
  },
  {
   "cell_type": "code",
   "execution_count": 6,
   "metadata": {},
   "outputs": [
    {
     "data": {
      "text/plain": [
       "'https://api.foursquare.com/v2/venues/search?client_id=FLSHE5WOWUI5JJPQBI1IMJBGK1KL0JX4CXV4DG2ZRQVPICQE&client_secret=PKNCMWET2QX4MY2LIZWBJVNZAB4RRD3T2QBQIJAAWUCPS35C&ll=49.282718,-123.123883&v=20180604&query=Nightlife Spot&category_id=4d4b7105d754a06376d81259&radius=500'"
      ]
     },
     "execution_count": 6,
     "metadata": {},
     "output_type": "execute_result"
    }
   ],
   "source": [
    "url = 'https://api.foursquare.com/v2/venues/search?client_id={}&client_secret={}&ll={},{}&v={}&query={}&category_id={}&radius={}'.format(CLIENT_ID, CLIENT_SECRET, latitude, longitude,VERSION,category,category_id,radius)\n",
    "url"
   ]
  },
  {
   "cell_type": "code",
   "execution_count": 7,
   "metadata": {},
   "outputs": [
    {
     "data": {
      "text/plain": [
       "{'meta': {'code': 200, 'requestId': '5e05c252c8cff2001b9f21be'},\n",
       " 'response': {'venues': [{'id': '4d61dd8c5c39b1f798e7144a',\n",
       "    'name': 'The G Spot',\n",
       "    'location': {'address': '1239 barclay',\n",
       "     'crossStreet': 'bute',\n",
       "     'lat': 49.2856918,\n",
       "     'lng': -123.12861206666666,\n",
       "     'labeledLatLngs': [{'label': 'display',\n",
       "       'lat': 49.2856918,\n",
       "       'lng': -123.12861206666666}],\n",
       "     'distance': 476,\n",
       "     'postalCode': 'V6E 3Y5',\n",
       "     'cc': 'CA',\n",
       "     'city': 'Vancouver',\n",
       "     'state': 'BC',\n",
       "     'country': 'Canada',\n",
       "     'formattedAddress': ['1239 barclay (bute)',\n",
       "      'Vancouver BC V6E 3Y5',\n",
       "      'Canada']},\n",
       "    'categories': [{'id': '4bf58dd8d48988d1d6941735',\n",
       "      'name': 'Strip Club',\n",
       "      'pluralName': 'Strip Clubs',\n",
       "      'shortName': 'Strip Club',\n",
       "      'icon': {'prefix': 'https://ss3.4sqi.net/img/categories_v2/nightlife/stripclub_',\n",
       "       'suffix': '.png'},\n",
       "      'primary': True}],\n",
       "    'referralId': 'v-1577435734',\n",
       "    'hasPerk': False},\n",
       "   {'id': '54ca98ee498ecfa9d53ac108',\n",
       "    'name': \"Li'l Cheese Steak Spot\",\n",
       "    'location': {'address': 'Royal Centre Food Court',\n",
       "     'lat': 49.285246156772054,\n",
       "     'lng': -123.1205789015411,\n",
       "     'labeledLatLngs': [{'label': 'display',\n",
       "       'lat': 49.285246156772054,\n",
       "       'lng': -123.1205789015411}],\n",
       "     'distance': 369,\n",
       "     'cc': 'CA',\n",
       "     'city': 'Vancouver',\n",
       "     'state': 'BC',\n",
       "     'country': 'Canada',\n",
       "     'formattedAddress': ['Royal Centre Food Court',\n",
       "      'Vancouver BC',\n",
       "      'Canada']},\n",
       "    'categories': [{'id': '4bf58dd8d48988d1c5941735',\n",
       "      'name': 'Sandwich Place',\n",
       "      'pluralName': 'Sandwich Places',\n",
       "      'shortName': 'Sandwiches',\n",
       "      'icon': {'prefix': 'https://ss3.4sqi.net/img/categories_v2/food/deli_',\n",
       "       'suffix': '.png'},\n",
       "      'primary': True}],\n",
       "    'referralId': 'v-1577435734',\n",
       "    'hasPerk': False},\n",
       "   {'id': '5c83285a33e118002cd094ac',\n",
       "    'name': 'The Spot',\n",
       "    'location': {'address': '933 Seymour St',\n",
       "     'crossStreet': 'btwn Nelson & Smithe',\n",
       "     'lat': 49.27937,\n",
       "     'lng': -123.121268,\n",
       "     'labeledLatLngs': [{'label': 'display',\n",
       "       'lat': 49.27937,\n",
       "       'lng': -123.121268}],\n",
       "     'distance': 418,\n",
       "     'postalCode': 'V6B',\n",
       "     'cc': 'CA',\n",
       "     'city': 'Vancouver',\n",
       "     'state': 'BC',\n",
       "     'country': 'Canada',\n",
       "     'formattedAddress': ['933 Seymour St (btwn Nelson & Smithe)',\n",
       "      'Vancouver BC V6B',\n",
       "      'Canada']},\n",
       "    'categories': [{'id': '4d954b06a243a5684965b473',\n",
       "      'name': 'Residential Building (Apartment / Condo)',\n",
       "      'pluralName': 'Residential Buildings (Apartments / Condos)',\n",
       "      'shortName': 'Residential',\n",
       "      'icon': {'prefix': 'https://ss3.4sqi.net/img/categories_v2/building/apartment_',\n",
       "       'suffix': '.png'},\n",
       "      'primary': True}],\n",
       "    'referralId': 'v-1577435734',\n",
       "    'hasPerk': False},\n",
       "   {'id': '4f296e32e4b092dd9d7d0ad3',\n",
       "    'name': 'The Healing Spot',\n",
       "    'location': {'address': '888 Bute Street',\n",
       "     'crossStreet': 'Barclay',\n",
       "     'lat': 49.284611,\n",
       "     'lng': -123.128918,\n",
       "     'labeledLatLngs': [{'label': 'display',\n",
       "       'lat': 49.284611,\n",
       "       'lng': -123.128918}],\n",
       "     'distance': 421,\n",
       "     'cc': 'CA',\n",
       "     'city': 'Vancouver',\n",
       "     'state': 'BC',\n",
       "     'country': 'Canada',\n",
       "     'formattedAddress': ['888 Bute Street (Barclay)',\n",
       "      'Vancouver BC',\n",
       "      'Canada']},\n",
       "    'categories': [{'id': '4d954b06a243a5684965b473',\n",
       "      'name': 'Residential Building (Apartment / Condo)',\n",
       "      'pluralName': 'Residential Buildings (Apartments / Condos)',\n",
       "      'shortName': 'Residential',\n",
       "      'icon': {'prefix': 'https://ss3.4sqi.net/img/categories_v2/building/apartment_',\n",
       "       'suffix': '.png'},\n",
       "      'primary': True}],\n",
       "    'referralId': 'v-1577435734',\n",
       "    'hasPerk': False},\n",
       "   {'id': '5678df11498e17b35a76bc68',\n",
       "    'name': 'Donair Spot',\n",
       "    'location': {'address': '403 W. Broadway',\n",
       "     'crossStreet': 'Yukon',\n",
       "     'lat': 49.279354,\n",
       "     'lng': -123.118791,\n",
       "     'labeledLatLngs': [{'label': 'display',\n",
       "       'lat': 49.279354,\n",
       "       'lng': -123.118791}],\n",
       "     'distance': 526,\n",
       "     'cc': 'CA',\n",
       "     'city': 'Vancouver',\n",
       "     'state': 'BC',\n",
       "     'country': 'Canada',\n",
       "     'formattedAddress': ['403 W. Broadway (Yukon)',\n",
       "      'Vancouver BC',\n",
       "      'Canada']},\n",
       "    'categories': [{'id': '4bf58dd8d48988d10b941735',\n",
       "      'name': 'Falafel Restaurant',\n",
       "      'pluralName': 'Falafel Restaurants',\n",
       "      'shortName': 'Falafel',\n",
       "      'icon': {'prefix': 'https://ss3.4sqi.net/img/categories_v2/food/falafel_',\n",
       "       'suffix': '.png'},\n",
       "      'primary': True}],\n",
       "    'referralId': 'v-1577435734',\n",
       "    'hasPerk': False},\n",
       "   {'id': '4d49eb2fb480a1435f5a29ec',\n",
       "    'name': 'White Spot',\n",
       "    'location': {'address': '580 W Georgia St',\n",
       "     'crossStreet': 'at Seymour St',\n",
       "     'lat': 49.281667,\n",
       "     'lng': -123.11738833,\n",
       "     'labeledLatLngs': [{'label': 'display',\n",
       "       'lat': 49.281667,\n",
       "       'lng': -123.11738833}],\n",
       "     'distance': 485,\n",
       "     'postalCode': 'V6B 2A3',\n",
       "     'cc': 'CA',\n",
       "     'city': 'Vancouver',\n",
       "     'state': 'BC',\n",
       "     'country': 'Canada',\n",
       "     'formattedAddress': ['580 W Georgia St (at Seymour St)',\n",
       "      'Vancouver BC V6B 2A3',\n",
       "      'Canada']},\n",
       "    'categories': [{'id': '4bf58dd8d48988d16c941735',\n",
       "      'name': 'Burger Joint',\n",
       "      'pluralName': 'Burger Joints',\n",
       "      'shortName': 'Burgers',\n",
       "      'icon': {'prefix': 'https://ss3.4sqi.net/img/categories_v2/food/burger_',\n",
       "       'suffix': '.png'},\n",
       "      'primary': True}],\n",
       "    'referralId': 'v-1577435734',\n",
       "    'hasPerk': False},\n",
       "   {'id': '4aafd7f1f964a520e46420e3',\n",
       "    'name': \"Triple O's\",\n",
       "    'location': {'address': '407B- 1055 Dunsmuir Street',\n",
       "     'crossStreet': 'in Bentall 4 (at Burrard)',\n",
       "     'lat': 49.285448618090825,\n",
       "     'lng': -123.11998959881755,\n",
       "     'labeledLatLngs': [{'label': 'display',\n",
       "       'lat': 49.285448618090825,\n",
       "       'lng': -123.11998959881755}],\n",
       "     'distance': 415,\n",
       "     'postalCode': 'V7X 1G4',\n",
       "     'cc': 'CA',\n",
       "     'city': 'Vancouver',\n",
       "     'state': 'BC',\n",
       "     'country': 'Canada',\n",
       "     'formattedAddress': ['407B- 1055 Dunsmuir Street (in Bentall 4 (at Burrard))',\n",
       "      'Vancouver BC V7X 1G4',\n",
       "      'Canada']},\n",
       "    'categories': [{'id': '4bf58dd8d48988d16c941735',\n",
       "      'name': 'Burger Joint',\n",
       "      'pluralName': 'Burger Joints',\n",
       "      'shortName': 'Burgers',\n",
       "      'icon': {'prefix': 'https://ss3.4sqi.net/img/categories_v2/food/burger_',\n",
       "       'suffix': '.png'},\n",
       "      'primary': True}],\n",
       "    'referralId': 'v-1577435734',\n",
       "    'hasPerk': False}]}}"
      ]
     },
     "execution_count": 7,
     "metadata": {},
     "output_type": "execute_result"
    }
   ],
   "source": [
    "import requests\n",
    "result = requests.get(url = url).json()\n",
    "result"
   ]
  },
  {
   "cell_type": "code",
   "execution_count": 8,
   "metadata": {},
   "outputs": [],
   "source": [
    "venues = result['response']['venues']"
   ]
  },
  {
   "cell_type": "code",
   "execution_count": 9,
   "metadata": {
    "scrolled": true
   },
   "outputs": [
    {
     "data": {
      "text/html": [
       "<div>\n",
       "<style scoped>\n",
       "    .dataframe tbody tr th:only-of-type {\n",
       "        vertical-align: middle;\n",
       "    }\n",
       "\n",
       "    .dataframe tbody tr th {\n",
       "        vertical-align: top;\n",
       "    }\n",
       "\n",
       "    .dataframe thead th {\n",
       "        text-align: right;\n",
       "    }\n",
       "</style>\n",
       "<table border=\"1\" class=\"dataframe\">\n",
       "  <thead>\n",
       "    <tr style=\"text-align: right;\">\n",
       "      <th></th>\n",
       "      <th>categories</th>\n",
       "      <th>hasPerk</th>\n",
       "      <th>id</th>\n",
       "      <th>location.address</th>\n",
       "      <th>location.cc</th>\n",
       "      <th>location.city</th>\n",
       "      <th>location.country</th>\n",
       "      <th>location.crossStreet</th>\n",
       "      <th>location.distance</th>\n",
       "      <th>location.formattedAddress</th>\n",
       "      <th>location.labeledLatLngs</th>\n",
       "      <th>location.lat</th>\n",
       "      <th>location.lng</th>\n",
       "      <th>location.postalCode</th>\n",
       "      <th>location.state</th>\n",
       "      <th>name</th>\n",
       "      <th>referralId</th>\n",
       "    </tr>\n",
       "  </thead>\n",
       "  <tbody>\n",
       "    <tr>\n",
       "      <th>0</th>\n",
       "      <td>[{'id': '4bf58dd8d48988d1d6941735', 'name': 'S...</td>\n",
       "      <td>False</td>\n",
       "      <td>4d61dd8c5c39b1f798e7144a</td>\n",
       "      <td>1239 barclay</td>\n",
       "      <td>CA</td>\n",
       "      <td>Vancouver</td>\n",
       "      <td>Canada</td>\n",
       "      <td>bute</td>\n",
       "      <td>476</td>\n",
       "      <td>[1239 barclay (bute), Vancouver BC V6E 3Y5, Ca...</td>\n",
       "      <td>[{'label': 'display', 'lat': 49.2856918, 'lng'...</td>\n",
       "      <td>49.285692</td>\n",
       "      <td>-123.128612</td>\n",
       "      <td>V6E 3Y5</td>\n",
       "      <td>BC</td>\n",
       "      <td>The G Spot</td>\n",
       "      <td>v-1577435734</td>\n",
       "    </tr>\n",
       "    <tr>\n",
       "      <th>1</th>\n",
       "      <td>[{'id': '4bf58dd8d48988d1c5941735', 'name': 'S...</td>\n",
       "      <td>False</td>\n",
       "      <td>54ca98ee498ecfa9d53ac108</td>\n",
       "      <td>Royal Centre Food Court</td>\n",
       "      <td>CA</td>\n",
       "      <td>Vancouver</td>\n",
       "      <td>Canada</td>\n",
       "      <td>NaN</td>\n",
       "      <td>369</td>\n",
       "      <td>[Royal Centre Food Court, Vancouver BC, Canada]</td>\n",
       "      <td>[{'label': 'display', 'lat': 49.28524615677205...</td>\n",
       "      <td>49.285246</td>\n",
       "      <td>-123.120579</td>\n",
       "      <td>NaN</td>\n",
       "      <td>BC</td>\n",
       "      <td>Li'l Cheese Steak Spot</td>\n",
       "      <td>v-1577435734</td>\n",
       "    </tr>\n",
       "    <tr>\n",
       "      <th>2</th>\n",
       "      <td>[{'id': '4d954b06a243a5684965b473', 'name': 'R...</td>\n",
       "      <td>False</td>\n",
       "      <td>5c83285a33e118002cd094ac</td>\n",
       "      <td>933 Seymour St</td>\n",
       "      <td>CA</td>\n",
       "      <td>Vancouver</td>\n",
       "      <td>Canada</td>\n",
       "      <td>btwn Nelson &amp; Smithe</td>\n",
       "      <td>418</td>\n",
       "      <td>[933 Seymour St (btwn Nelson &amp; Smithe), Vancou...</td>\n",
       "      <td>[{'label': 'display', 'lat': 49.27937, 'lng': ...</td>\n",
       "      <td>49.279370</td>\n",
       "      <td>-123.121268</td>\n",
       "      <td>V6B</td>\n",
       "      <td>BC</td>\n",
       "      <td>The Spot</td>\n",
       "      <td>v-1577435734</td>\n",
       "    </tr>\n",
       "    <tr>\n",
       "      <th>3</th>\n",
       "      <td>[{'id': '4d954b06a243a5684965b473', 'name': 'R...</td>\n",
       "      <td>False</td>\n",
       "      <td>4f296e32e4b092dd9d7d0ad3</td>\n",
       "      <td>888 Bute Street</td>\n",
       "      <td>CA</td>\n",
       "      <td>Vancouver</td>\n",
       "      <td>Canada</td>\n",
       "      <td>Barclay</td>\n",
       "      <td>421</td>\n",
       "      <td>[888 Bute Street (Barclay), Vancouver BC, Canada]</td>\n",
       "      <td>[{'label': 'display', 'lat': 49.284611, 'lng':...</td>\n",
       "      <td>49.284611</td>\n",
       "      <td>-123.128918</td>\n",
       "      <td>NaN</td>\n",
       "      <td>BC</td>\n",
       "      <td>The Healing Spot</td>\n",
       "      <td>v-1577435734</td>\n",
       "    </tr>\n",
       "    <tr>\n",
       "      <th>4</th>\n",
       "      <td>[{'id': '4bf58dd8d48988d10b941735', 'name': 'F...</td>\n",
       "      <td>False</td>\n",
       "      <td>5678df11498e17b35a76bc68</td>\n",
       "      <td>403 W. Broadway</td>\n",
       "      <td>CA</td>\n",
       "      <td>Vancouver</td>\n",
       "      <td>Canada</td>\n",
       "      <td>Yukon</td>\n",
       "      <td>526</td>\n",
       "      <td>[403 W. Broadway (Yukon), Vancouver BC, Canada]</td>\n",
       "      <td>[{'label': 'display', 'lat': 49.279354, 'lng':...</td>\n",
       "      <td>49.279354</td>\n",
       "      <td>-123.118791</td>\n",
       "      <td>NaN</td>\n",
       "      <td>BC</td>\n",
       "      <td>Donair Spot</td>\n",
       "      <td>v-1577435734</td>\n",
       "    </tr>\n",
       "  </tbody>\n",
       "</table>\n",
       "</div>"
      ],
      "text/plain": [
       "                                          categories  hasPerk  \\\n",
       "0  [{'id': '4bf58dd8d48988d1d6941735', 'name': 'S...    False   \n",
       "1  [{'id': '4bf58dd8d48988d1c5941735', 'name': 'S...    False   \n",
       "2  [{'id': '4d954b06a243a5684965b473', 'name': 'R...    False   \n",
       "3  [{'id': '4d954b06a243a5684965b473', 'name': 'R...    False   \n",
       "4  [{'id': '4bf58dd8d48988d10b941735', 'name': 'F...    False   \n",
       "\n",
       "                         id         location.address location.cc  \\\n",
       "0  4d61dd8c5c39b1f798e7144a             1239 barclay          CA   \n",
       "1  54ca98ee498ecfa9d53ac108  Royal Centre Food Court          CA   \n",
       "2  5c83285a33e118002cd094ac           933 Seymour St          CA   \n",
       "3  4f296e32e4b092dd9d7d0ad3          888 Bute Street          CA   \n",
       "4  5678df11498e17b35a76bc68          403 W. Broadway          CA   \n",
       "\n",
       "  location.city location.country  location.crossStreet  location.distance  \\\n",
       "0     Vancouver           Canada                  bute                476   \n",
       "1     Vancouver           Canada                   NaN                369   \n",
       "2     Vancouver           Canada  btwn Nelson & Smithe                418   \n",
       "3     Vancouver           Canada               Barclay                421   \n",
       "4     Vancouver           Canada                 Yukon                526   \n",
       "\n",
       "                           location.formattedAddress  \\\n",
       "0  [1239 barclay (bute), Vancouver BC V6E 3Y5, Ca...   \n",
       "1    [Royal Centre Food Court, Vancouver BC, Canada]   \n",
       "2  [933 Seymour St (btwn Nelson & Smithe), Vancou...   \n",
       "3  [888 Bute Street (Barclay), Vancouver BC, Canada]   \n",
       "4    [403 W. Broadway (Yukon), Vancouver BC, Canada]   \n",
       "\n",
       "                             location.labeledLatLngs  location.lat  \\\n",
       "0  [{'label': 'display', 'lat': 49.2856918, 'lng'...     49.285692   \n",
       "1  [{'label': 'display', 'lat': 49.28524615677205...     49.285246   \n",
       "2  [{'label': 'display', 'lat': 49.27937, 'lng': ...     49.279370   \n",
       "3  [{'label': 'display', 'lat': 49.284611, 'lng':...     49.284611   \n",
       "4  [{'label': 'display', 'lat': 49.279354, 'lng':...     49.279354   \n",
       "\n",
       "   location.lng location.postalCode location.state                    name  \\\n",
       "0   -123.128612             V6E 3Y5             BC              The G Spot   \n",
       "1   -123.120579                 NaN             BC  Li'l Cheese Steak Spot   \n",
       "2   -123.121268                 V6B             BC                The Spot   \n",
       "3   -123.128918                 NaN             BC        The Healing Spot   \n",
       "4   -123.118791                 NaN             BC             Donair Spot   \n",
       "\n",
       "     referralId  \n",
       "0  v-1577435734  \n",
       "1  v-1577435734  \n",
       "2  v-1577435734  \n",
       "3  v-1577435734  \n",
       "4  v-1577435734  "
      ]
     },
     "execution_count": 9,
     "metadata": {},
     "output_type": "execute_result"
    }
   ],
   "source": [
    "from pandas.io.json import json_normalize\n",
    "dataframe = json_normalize(venues)\n",
    "dataframe.head()"
   ]
  },
  {
   "cell_type": "code",
   "execution_count": 10,
   "metadata": {},
   "outputs": [
    {
     "data": {
      "text/plain": [
       "0                The G Spot\n",
       "1    Li'l Cheese Steak Spot\n",
       "2                  The Spot\n",
       "3          The Healing Spot\n",
       "4               Donair Spot\n",
       "5                White Spot\n",
       "6                Triple O's\n",
       "Name: name, dtype: object"
      ]
     },
     "execution_count": 10,
     "metadata": {},
     "output_type": "execute_result"
    }
   ],
   "source": [
    "dataframe.name"
   ]
  },
  {
   "cell_type": "markdown",
   "metadata": {},
   "source": [
    "We can see that there are 7 nightlife spots around the second restaurant in a radius of 500 meters. \n",
    "As we still want to discover the nearby venues around every restaurant, we are going to write a function to help us get all those info."
   ]
  },
  {
   "cell_type": "code",
   "execution_count": 10,
   "metadata": {},
   "outputs": [],
   "source": [
    "def venues_nearby(lat,lon,category):\n",
    "    VERSION = '20180604'\n",
    "    CLIENT_ID = 'FLSHE5WOWUI5JJPQBI1IMJBGK1KL0JX4CXV4DG2ZRQVPICQE'\n",
    "    CLIENT_SECRET = 'PKNCMWET2QX4MY2LIZWBJVNZAB4RRD3T2QBQIJAAWUCPS35C'\n",
    "    latitude = lat\n",
    "    longitude = lon\n",
    "    category = category\n",
    "    category_id=fs_categories[category]\n",
    "    radius = 500\n",
    "    url = 'https://api.foursquare.com/v2/venues/search?client_id={}&client_secret={}&ll={},{}&v={}&query={}&category_id={}&radius={}'.format(CLIENT_ID, CLIENT_SECRET, latitude, longitude,VERSION,category,category_id,radius)\n",
    "    result = requests.get(url = url).json()\n",
    "    venue = result['response']['venues']\n",
    "    df = json_normalize(venue)\n",
    "    if( len(df) == 0 ):       \n",
    "        print(\"no relevant information\")\n",
    "    else:\n",
    "        df = df.name\n",
    "    return df"
   ]
  },
  {
   "cell_type": "markdown",
   "metadata": {},
   "source": [
    "Let's test it out. We want to find if there are any Metro Station around second restaurant. "
   ]
  },
  {
   "cell_type": "code",
   "execution_count": 11,
   "metadata": {},
   "outputs": [
    {
     "data": {
      "text/html": [
       "<div>\n",
       "<style scoped>\n",
       "    .dataframe tbody tr th:only-of-type {\n",
       "        vertical-align: middle;\n",
       "    }\n",
       "\n",
       "    .dataframe tbody tr th {\n",
       "        vertical-align: top;\n",
       "    }\n",
       "\n",
       "    .dataframe thead th {\n",
       "        text-align: right;\n",
       "    }\n",
       "</style>\n",
       "<table border=\"1\" class=\"dataframe\">\n",
       "  <thead>\n",
       "    <tr style=\"text-align: right;\">\n",
       "      <th></th>\n",
       "      <th>Name</th>\n",
       "      <th>lat</th>\n",
       "      <th>lon</th>\n",
       "      <th>rating</th>\n",
       "    </tr>\n",
       "  </thead>\n",
       "  <tbody>\n",
       "    <tr>\n",
       "      <th>1</th>\n",
       "      <td>Ancora Ambleside</td>\n",
       "      <td>49.327349</td>\n",
       "      <td>-123.154458</td>\n",
       "      <td>5.0</td>\n",
       "    </tr>\n",
       "    <tr>\n",
       "      <th>2</th>\n",
       "      <td>Boulevard Kitchen &amp; Oyster Bar</td>\n",
       "      <td>49.282718</td>\n",
       "      <td>-123.123883</td>\n",
       "      <td>4.0</td>\n",
       "    </tr>\n",
       "    <tr>\n",
       "      <th>3</th>\n",
       "      <td>Oddfish Restaurant</td>\n",
       "      <td>49.270894</td>\n",
       "      <td>-123.147585</td>\n",
       "      <td>4.0</td>\n",
       "    </tr>\n",
       "  </tbody>\n",
       "</table>\n",
       "</div>"
      ],
      "text/plain": [
       "                             Name        lat         lon  rating\n",
       "1                Ancora Ambleside  49.327349 -123.154458     5.0\n",
       "2  Boulevard Kitchen & Oyster Bar  49.282718 -123.123883     4.0\n",
       "3              Oddfish Restaurant  49.270894 -123.147585     4.0"
      ]
     },
     "execution_count": 11,
     "metadata": {},
     "output_type": "execute_result"
    }
   ],
   "source": [
    "df_choice"
   ]
  },
  {
   "cell_type": "code",
   "execution_count": 12,
   "metadata": {},
   "outputs": [
    {
     "data": {
      "text/plain": [
       "(49.282718, -123.123883)"
      ]
     },
     "execution_count": 12,
     "metadata": {},
     "output_type": "execute_result"
    }
   ],
   "source": [
    "lat = df_choice.lat[2]\n",
    "lon = df_choice.lon[2]\n",
    "lat,lon"
   ]
  },
  {
   "cell_type": "code",
   "execution_count": 15,
   "metadata": {},
   "outputs": [
    {
     "data": {
      "text/plain": [
       "{'Nightlife Spot': '4d4b7105d754a06376d81259',\n",
       " 'bus stop': '52f2ab2ebcbc57f1066b8b4f',\n",
       " 'Metro Station': '4bf58dd8d48988d1fd931735',\n",
       " 'Shopping Mall': '4bf58dd8d48988d1fd941735'}"
      ]
     },
     "execution_count": 15,
     "metadata": {},
     "output_type": "execute_result"
    }
   ],
   "source": [
    "fs_categories"
   ]
  },
  {
   "cell_type": "code",
   "execution_count": 16,
   "metadata": {},
   "outputs": [
    {
     "data": {
      "text/plain": [
       "0                Vancouver City Centre SkyTrain Station\n",
       "1                              Burrard SkyTrain Station\n",
       "2                                            Metro News\n",
       "3                            Granville SkyTrain Station\n",
       "4                                            metro news\n",
       "5                              Granville Station Dental\n",
       "6                      Metrowest Building Services Ltd.\n",
       "7                          Metropolitan Hotel Vancouver\n",
       "8                                   J-Station Vancouver\n",
       "9                                   Metropolitan Towers\n",
       "10    Metropolitan Local Movers Vancouver - Best Mov...\n",
       "11                       Metropolitan Community College\n",
       "12                                                 Esso\n",
       "13                        Metropolitan Credit Adjusters\n",
       "14                               WeWork Burrard Station\n",
       "15    Zipcar Metropolitian Hotel 645 Howe Street & D...\n",
       "16                             Granville Station Dental\n",
       "17                        The granville station dentist\n",
       "18                 International News Granville Station\n",
       "19                          Library@Metropolitan Towers\n",
       "20                                           Jugo Juice\n",
       "21                           Garden@Metropolitan Towers\n",
       "22                               Bus Stop 58099 (22,44)\n",
       "23                                          Tim Hortons\n",
       "24                                            Starbucks\n",
       "Name: name, dtype: object"
      ]
     },
     "execution_count": 16,
     "metadata": {},
     "output_type": "execute_result"
    }
   ],
   "source": [
    "venues_nearby(lat,lon,'Metro Station')"
   ]
  },
  {
   "cell_type": "markdown",
   "metadata": {},
   "source": [
    "How about Nightlife Spot?"
   ]
  },
  {
   "cell_type": "code",
   "execution_count": 23,
   "metadata": {},
   "outputs": [
    {
     "data": {
      "text/plain": [
       "0                The G Spot\n",
       "1    Li'l Cheese Steak Spot\n",
       "2                  The Spot\n",
       "3          The Healing Spot\n",
       "4               Donair Spot\n",
       "5                White Spot\n",
       "6                Triple O's\n",
       "Name: name, dtype: object"
      ]
     },
     "execution_count": 23,
     "metadata": {},
     "output_type": "execute_result"
    }
   ],
   "source": [
    "venues_nearby(lat,lon,'Nightlife Spot')"
   ]
  },
  {
   "cell_type": "markdown",
   "metadata": {},
   "source": [
    "How about shopping malls"
   ]
  },
  {
   "cell_type": "code",
   "execution_count": 24,
   "metadata": {},
   "outputs": [
    {
     "data": {
      "text/plain": [
       "0         Bus Stop 54446 (240,241,242,246,247,N24)\n",
       "1                   Bus Stop 58705 (250/1/2/3/4/7)\n",
       "2                      Bus Stop 50045 (2,22,32,44)\n",
       "3                      Bus Stop 50046 (2,22,32,44)\n",
       "4        Bus Stop 54832 (4,6,7,10,14,16,50,N9,N17)\n",
       "5                               Bus Stop 50624 (5)\n",
       "6                               Bus Stop 50623 (5)\n",
       "7                            Bus Stop 50616 (5,N6)\n",
       "8            Bus Stop 61292 (4, 7, 10, 14, 16, 50)\n",
       "9         Bus Stop 61031 (240,241,242,246,247,N24)\n",
       "10                     Bus Stop 50030 (2,22,32,44)\n",
       "11                             Bus Stop 50530 (95)\n",
       "12                     Bus Stop 50043 (2,22,32,44)\n",
       "13                              Bus Stop 50626 (5)\n",
       "14                     Bus Stop 50029 (2,22,32,44)\n",
       "15        Bus Stop 54444 (240,241,242,246,247,N24)\n",
       "16                           Bus Stop 58138 (5,N6)\n",
       "17       Bus Stop 54831 (4,6,7,10,14,16,50,N17,N9)\n",
       "18                           Bus Stop 61508 (5,N6)\n",
       "19                     Bus Stop 50044 (2,22,32,44)\n",
       "20                              Bus Stop 50625 (5)\n",
       "21                     Bus Stop 50047 (2,22,32,44)\n",
       "22                     Bus Stop 50031 (2,22,32,44)\n",
       "23              Bus Stop 58144 (4,6,7,10,14,16,50)\n",
       "24              Bus Stop 54830 (4,6,7,10,14,16,50)\n",
       "25    Bus Stop 50975 (240/1/2/6/7,250/1/2/3/4,N24)\n",
       "26                        Bus Stop 59040 (5,17,20)\n",
       "27              Bus Stop 58326 (4,6,7,10,14,16,50)\n",
       "28                     Bus Stop 50028 (2,22,32,44)\n",
       "29             Bus Stop 50405 (209, 210, 211, 214)\n",
       "Name: name, dtype: object"
      ]
     },
     "execution_count": 24,
     "metadata": {},
     "output_type": "execute_result"
    }
   ],
   "source": [
    "venues_nearby(lat,lon,'bus stop')"
   ]
  },
  {
   "cell_type": "markdown",
   "metadata": {},
   "source": [
    "We can see the function works well and then we are about to get all the nearby venues around every restaurant."
   ]
  },
  {
   "cell_type": "markdown",
   "metadata": {},
   "source": [
    "After the data wrangling part, we got two dataframe."
   ]
  },
  {
   "cell_type": "code",
   "execution_count": 103,
   "metadata": {},
   "outputs": [
    {
     "data": {
      "text/html": [
       "<div>\n",
       "<style scoped>\n",
       "    .dataframe tbody tr th:only-of-type {\n",
       "        vertical-align: middle;\n",
       "    }\n",
       "\n",
       "    .dataframe tbody tr th {\n",
       "        vertical-align: top;\n",
       "    }\n",
       "\n",
       "    .dataframe thead th {\n",
       "        text-align: right;\n",
       "    }\n",
       "</style>\n",
       "<table border=\"1\" class=\"dataframe\">\n",
       "  <thead>\n",
       "    <tr style=\"text-align: right;\">\n",
       "      <th></th>\n",
       "      <th>nightlife spot</th>\n",
       "      <th>bus stop</th>\n",
       "      <th>metro station</th>\n",
       "      <th>shopping mall</th>\n",
       "    </tr>\n",
       "    <tr>\n",
       "      <th>restaurant</th>\n",
       "      <th></th>\n",
       "      <th></th>\n",
       "      <th></th>\n",
       "      <th></th>\n",
       "    </tr>\n",
       "  </thead>\n",
       "  <tbody>\n",
       "    <tr>\n",
       "      <th>1</th>\n",
       "      <td>0</td>\n",
       "      <td>7</td>\n",
       "      <td>0</td>\n",
       "      <td>0</td>\n",
       "    </tr>\n",
       "    <tr>\n",
       "      <th>2</th>\n",
       "      <td>7</td>\n",
       "      <td>30</td>\n",
       "      <td>5</td>\n",
       "      <td>5</td>\n",
       "    </tr>\n",
       "    <tr>\n",
       "      <th>3</th>\n",
       "      <td>0</td>\n",
       "      <td>17</td>\n",
       "      <td>1</td>\n",
       "      <td>0</td>\n",
       "    </tr>\n",
       "  </tbody>\n",
       "</table>\n",
       "</div>"
      ],
      "text/plain": [
       "            nightlife spot  bus stop   metro station   shopping mall\n",
       "restaurant                                                          \n",
       "1                        0         7               0               0\n",
       "2                        7        30               5               5\n",
       "3                        0        17               1               0"
      ]
     },
     "execution_count": 103,
     "metadata": {},
     "output_type": "execute_result"
    }
   ],
   "source": [
    "df_countchoice= pd.read_csv('choice.csv',index_col=[0])\n",
    "df_countchoice"
   ]
  },
  {
   "cell_type": "code",
   "execution_count": 12,
   "metadata": {},
   "outputs": [
    {
     "data": {
      "text/html": [
       "<div>\n",
       "<style scoped>\n",
       "    .dataframe tbody tr th:only-of-type {\n",
       "        vertical-align: middle;\n",
       "    }\n",
       "\n",
       "    .dataframe tbody tr th {\n",
       "        vertical-align: top;\n",
       "    }\n",
       "\n",
       "    .dataframe thead th {\n",
       "        text-align: right;\n",
       "    }\n",
       "</style>\n",
       "<table border=\"1\" class=\"dataframe\">\n",
       "  <thead>\n",
       "    <tr style=\"text-align: right;\">\n",
       "      <th></th>\n",
       "      <th>nightlife spot</th>\n",
       "      <th>bus stop</th>\n",
       "      <th>metro station</th>\n",
       "      <th>shopping mall</th>\n",
       "    </tr>\n",
       "    <tr>\n",
       "      <th>restaurant</th>\n",
       "      <th></th>\n",
       "      <th></th>\n",
       "      <th></th>\n",
       "      <th></th>\n",
       "    </tr>\n",
       "  </thead>\n",
       "  <tbody>\n",
       "    <tr>\n",
       "      <th>1</th>\n",
       "      <td>4</td>\n",
       "      <td>5</td>\n",
       "      <td>2</td>\n",
       "      <td>3</td>\n",
       "    </tr>\n",
       "    <tr>\n",
       "      <th>2</th>\n",
       "      <td>6</td>\n",
       "      <td>30</td>\n",
       "      <td>4</td>\n",
       "      <td>5</td>\n",
       "    </tr>\n",
       "    <tr>\n",
       "      <th>3</th>\n",
       "      <td>0</td>\n",
       "      <td>3</td>\n",
       "      <td>0</td>\n",
       "      <td>0</td>\n",
       "    </tr>\n",
       "  </tbody>\n",
       "</table>\n",
       "</div>"
      ],
      "text/plain": [
       "            nightlife spot  bus stop   metro station   shopping mall\n",
       "restaurant                                                          \n",
       "1                        4         5               2               3\n",
       "2                        6        30               4               5\n",
       "3                        0         3               0               0"
      ]
     },
     "execution_count": 12,
     "metadata": {},
     "output_type": "execute_result"
    }
   ],
   "source": [
    "df_countcand = pd.read_csv('count_cand.csv',index_col=[0])\n",
    "df_countcand"
   ]
  },
  {
   "cell_type": "markdown",
   "metadata": {},
   "source": [
    "## Methodology "
   ]
  },
  {
   "cell_type": "markdown",
   "metadata": {},
   "source": [
    "Methodology section which represents the main component of the report where you discuss and describe any exploratory data analysis that you did, any inferential statistical testing that you performed, and what machine learnings were used and why."
   ]
  },
  {
   "cell_type": "markdown",
   "metadata": {},
   "source": [
    "With the above data, I am able to use the __content-based recommendation algorithm__. \n",
    "Stakeholder's rating could be considered as the profile. Combined with the count of his choice, we can get a weighted feature set for his interest. After the normalization, we will get the user profile."
   ]
  },
  {
   "cell_type": "markdown",
   "metadata": {},
   "source": [
    "The user profile can be applied on the 3 candidate information and generate a ranking result. From the ranking result, we can make the final decision. "
   ]
  },
  {
   "cell_type": "markdown",
   "metadata": {},
   "source": [
    "#####  Data Normalization"
   ]
  },
  {
   "cell_type": "markdown",
   "metadata": {},
   "source": [
    "We need normalization to minor down the effects of large number to the result."
   ]
  },
  {
   "cell_type": "markdown",
   "metadata": {},
   "source": [
    "We are going to use the simple feature scaling method."
   ]
  },
  {
   "cell_type": "code",
   "execution_count": 111,
   "metadata": {},
   "outputs": [
    {
     "data": {
      "text/html": [
       "<div>\n",
       "<style scoped>\n",
       "    .dataframe tbody tr th:only-of-type {\n",
       "        vertical-align: middle;\n",
       "    }\n",
       "\n",
       "    .dataframe tbody tr th {\n",
       "        vertical-align: top;\n",
       "    }\n",
       "\n",
       "    .dataframe thead th {\n",
       "        text-align: right;\n",
       "    }\n",
       "</style>\n",
       "<table border=\"1\" class=\"dataframe\">\n",
       "  <thead>\n",
       "    <tr style=\"text-align: right;\">\n",
       "      <th></th>\n",
       "      <th>nightlife spot</th>\n",
       "      <th>bus stop</th>\n",
       "      <th>metro station</th>\n",
       "      <th>shopping mall</th>\n",
       "    </tr>\n",
       "    <tr>\n",
       "      <th>restaurant</th>\n",
       "      <th></th>\n",
       "      <th></th>\n",
       "      <th></th>\n",
       "      <th></th>\n",
       "    </tr>\n",
       "  </thead>\n",
       "  <tbody>\n",
       "    <tr>\n",
       "      <th>1</th>\n",
       "      <td>0.0</td>\n",
       "      <td>0.23</td>\n",
       "      <td>0.0</td>\n",
       "      <td>0.6</td>\n",
       "    </tr>\n",
       "    <tr>\n",
       "      <th>2</th>\n",
       "      <td>1.0</td>\n",
       "      <td>1.00</td>\n",
       "      <td>1.0</td>\n",
       "      <td>1.0</td>\n",
       "    </tr>\n",
       "    <tr>\n",
       "      <th>3</th>\n",
       "      <td>0.0</td>\n",
       "      <td>0.56</td>\n",
       "      <td>0.2</td>\n",
       "      <td>0.0</td>\n",
       "    </tr>\n",
       "  </tbody>\n",
       "</table>\n",
       "</div>"
      ],
      "text/plain": [
       "            nightlife spot  bus stop   metro station   shopping mall\n",
       "restaurant                                                          \n",
       "1                      0.0      0.23             0.0             0.6\n",
       "2                      1.0      1.00             1.0             1.0\n",
       "3                      0.0      0.56             0.2             0.0"
      ]
     },
     "execution_count": 111,
     "metadata": {},
     "output_type": "execute_result"
    }
   ],
   "source": [
    "df_countchoice"
   ]
  },
  {
   "cell_type": "markdown",
   "metadata": {},
   "source": [
    "Next, we need to extract the stakeholder's rating and make a series."
   ]
  },
  {
   "cell_type": "code",
   "execution_count": 51,
   "metadata": {},
   "outputs": [
    {
     "data": {
      "text/plain": [
       "1    3.0\n",
       "2    5.0\n",
       "3    4.0\n",
       "Name: rating, dtype: float64"
      ]
     },
     "execution_count": 51,
     "metadata": {},
     "output_type": "execute_result"
    }
   ],
   "source": [
    "df_rating = df_choice.rating\n",
    "df_rating"
   ]
  },
  {
   "cell_type": "markdown",
   "metadata": {},
   "source": [
    "Here we dot product the two metrices to get the weighted matrics."
   ]
  },
  {
   "cell_type": "code",
   "execution_count": 113,
   "metadata": {},
   "outputs": [
    {
     "data": {
      "text/plain": [
       "nightlife spot    5.00\n",
       "bus stop          7.93\n",
       " metro station    5.80\n",
       " shopping mall    6.80\n",
       "dtype: float64"
      ]
     },
     "execution_count": 113,
     "metadata": {},
     "output_type": "execute_result"
    }
   ],
   "source": [
    "user_profile = df_countchoice.transpose().dot(df_rating)\n",
    "user_profile"
   ]
  },
  {
   "cell_type": "markdown",
   "metadata": {},
   "source": [
    "Now we get the user profile. For the next step, we will apply it to the candidate dataframe to get a weighted preference matrix. "
   ]
  },
  {
   "cell_type": "markdown",
   "metadata": {},
   "source": [
    "Before the combination, we need to "
   ]
  }
 ],
 "metadata": {
  "kernelspec": {
   "display_name": "Python 3",
   "language": "python",
   "name": "python3"
  },
  "language_info": {
   "codemirror_mode": {
    "name": "ipython",
    "version": 3
   },
   "file_extension": ".py",
   "mimetype": "text/x-python",
   "name": "python",
   "nbconvert_exporter": "python",
   "pygments_lexer": "ipython3",
   "version": "3.7.2"
  }
 },
 "nbformat": 4,
 "nbformat_minor": 2
}
